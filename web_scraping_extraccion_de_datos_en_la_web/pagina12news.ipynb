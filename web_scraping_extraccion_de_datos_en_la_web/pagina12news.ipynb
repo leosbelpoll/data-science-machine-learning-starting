{
 "metadata": {
  "language_info": {
   "codemirror_mode": {
    "name": "ipython",
    "version": 3
   },
   "file_extension": ".py",
   "mimetype": "text/x-python",
   "name": "python",
   "nbconvert_exporter": "python",
   "pygments_lexer": "ipython3",
   "version": "3.8.3-final"
  },
  "orig_nbformat": 2,
  "kernelspec": {
   "name": "python3",
   "display_name": "Python 3"
  }
 },
 "nbformat": 4,
 "nbformat_minor": 2,
 "cells": [
  {
   "cell_type": "code",
   "execution_count": 1,
   "metadata": {},
   "outputs": [],
   "source": [
    "import requests"
   ]
  },
  {
   "cell_type": "code",
   "execution_count": 2,
   "metadata": {},
   "outputs": [],
   "source": [
    "url = 'https://www.pagina12.com.ar/'"
   ]
  },
  {
   "cell_type": "code",
   "execution_count": 4,
   "metadata": {},
   "outputs": [],
   "source": [
    "p12 = requests.get(url)"
   ]
  },
  {
   "cell_type": "code",
   "execution_count": 5,
   "metadata": {},
   "outputs": [
    {
     "output_type": "execute_result",
     "data": {
      "text/plain": [
       "200"
      ]
     },
     "metadata": {},
     "execution_count": 5
    }
   ],
   "source": [
    "p12.status_code"
   ]
  },
  {
   "cell_type": "code",
   "execution_count": 6,
   "metadata": {
    "tags": [
     "outputPrepend"
    ]
   },
   "outputs": [
    {
     "output_type": "stream",
     "name": "stdout",
     "text": [
      "/assets/media/assets/transparent.gif?v=1.0.263\" data-src=\"https://images.pagina12.com.ar/styles/focal_16_9_470x264/public/rest_images/unnamed-13-1-e1604401308900_0.png?itok=3_6FjUmJ\" alt=\"\"><img class=\"show-for-xsmall-only  lazyload\" src=\"https://www.pagina12.com.ar/assets/media/assets/transparent.gif?v=1.0.263\" data-src=\"https://images.pagina12.com.ar/styles/focal_16_9_300x169/public/rest_images/unnamed-13-1-e1604401308900_0.png?itok=JJwEXENY\" alt=\"\"><img class=\"show-for-xlarge  lazyload\" src=\"https://www.pagina12.com.ar/assets/media/assets/transparent.gif?v=1.0.263\" data-src=\"https://images.pagina12.com.ar/styles/focal_16_9_470x264/public/rest_images/unnamed-13-1-e1604401308900_0.png?itok=3_6FjUmJ\" alt=\"\"></div></a></div></div><div class=\"block-content\"><div class=\"headline-content\"><div class=\"headline-plaque\"><div class=\"suplement-logo product-octubretv\"></div></div><div class=\"article-title \"><a href=\"https://octubretv.com/videos/espejos-y-espejismos/\" target=\"_blank\" \">Espejos y <span class=\"title-separator\">Espejismos</span> <span class=\"title-prefix\">Muestra de cine africano en Octubre TV</span></a></a></div><div class=\"time-author-wrapper article-ta \"></div></div></div></article></div></div><div class=\"columns small-12 medium-4 index-1\"> <div class=\"headline-card headline-1 \"><article class=\"headline-card-inner\"><div class=\"block-multimedia\"><div class=\"multimedia-container\"><a href=\"https://octubretv.com/videos/1festival-de-cine-latinoamericano-independiente-de-bahia-blanca/\" target=\"_blank\"><div class=\"intrinsic-container\"><img class=\"show-for-small-only  lazyload\" src=\"https://www.pagina12.com.ar/assets/media/assets/transparent.gif?v=1.0.263\" data-src=\"https://images.pagina12.com.ar/styles/focal_16_9_470x264/public/rest_images/fecilbba-2020-2.jpg?itok=LvoDmGtN\" alt=\"\"><img class=\"show-for-medium-only  lazyload\" src=\"https://www.pagina12.com.ar/assets/media/assets/transparent.gif?v=1.0.263\" data-src=\"https://images.pagina12.com.ar/styles/focal_16_9_960x540/public/rest_images/fecilbba-2020-2.jpg?itok=ANgKO-6N\" alt=\"\"><img class=\"show-for-large-only  lazyload\" src=\"https://www.pagina12.com.ar/assets/media/assets/transparent.gif?v=1.0.263\" data-src=\"https://images.pagina12.com.ar/styles/focal_16_9_470x264/public/rest_images/fecilbba-2020-2.jpg?itok=LvoDmGtN\" alt=\"\"><img class=\"show-for-xsmall-only  lazyload\" src=\"https://www.pagina12.com.ar/assets/media/assets/transparent.gif?v=1.0.263\" data-src=\"https://images.pagina12.com.ar/styles/focal_16_9_300x169/public/rest_images/fecilbba-2020-2.jpg?itok=H8RS5PDM\" alt=\"\"><img class=\"show-for-xlarge  lazyload\" src=\"https://www.pagina12.com.ar/assets/media/assets/transparent.gif?v=1.0.263\" data-src=\"https://images.pagina12.com.ar/styles/focal_16_9_470x264/public/rest_images/fecilbba-2020-2.jpg?itok=LvoDmGtN\" alt=\"\"></div></a></div></div><div class=\"block-content\"><div class=\"headline-content\"><div class=\"headline-plaque\"><div class=\"suplement-logo product-octubretv\"></div></div><div class=\"article-title \"><a href=\"https://octubretv.com/videos/1festival-de-cine-latinoamericano-independiente-de-bahia-blanca/\" target=\"_blank\" \">Fecilbba <span class=\"title-separator\">2020</span> <span class=\"title-prefix\">9º Festival Latinoamericano de Cine Independiente Bahía Blanca</span></a></a></div><div class=\"time-author-wrapper article-ta \"></div></div></div></article></div></div><div class=\"columns small-12 medium-4 index-2\"> <div class=\"headline-card headline-1 \"><article class=\"headline-card-inner\"><div class=\"block-multimedia\"><div class=\"multimedia-container\"><a href=\"https://octubretv.com/videos/muejeres-pelicula-colectiva-realizada-por-mujeres-de-argentina-muejeres-pelicula-colectiva-realizada-por-mujeres-de-argentina/mujeres/\" target=\"_blank\"><div class=\"intrinsic-container\"><img class=\"show-for-small-only  lazyload\" src=\"https://www.pagina12.com.ar/assets/media/assets/transparent.gif?v=1.0.263\" data-src=\"https://images.pagina12.com.ar/styles/focal_16_9_470x264/public/rest_images/mujeres2.jpg?itok=cSZh3eP8\" alt=\"\"><img class=\"show-for-medium-only  lazyload\" src=\"https://www.pagina12.com.ar/assets/media/assets/transparent.gif?v=1.0.263\" data-src=\"https://images.pagina12.com.ar/styles/focal_16_9_960x540/public/rest_images/mujeres2.jpg?itok=zmgl-tLM\" alt=\"\"><img class=\"show-for-large-only  lazyload\" src=\"https://www.pagina12.com.ar/assets/media/assets/transparent.gif?v=1.0.263\" data-src=\"https://images.pagina12.com.ar/styles/focal_16_9_470x264/public/rest_images/mujeres2.jpg?itok=cSZh3eP8\" alt=\"\"><img class=\"show-for-xsmall-only  lazyload\" src=\"https://www.pagina12.com.ar/assets/media/assets/transparent.gif?v=1.0.263\" data-src=\"https://images.pagina12.com.ar/styles/focal_16_9_300x169/public/rest_images/mujeres2.jpg?itok=b-n13zf3\" alt=\"\"><img class=\"show-for-xlarge  lazyload\" src=\"https://www.pagina12.com.ar/assets/media/assets/transparent.gif?v=1.0.263\" data-src=\"https://images.pagina12.com.ar/styles/focal_16_9_470x264/public/rest_images/mujeres2.jpg?itok=cSZh3eP8\" alt=\"\"></div></a></div></div><div class=\"block-content\"><div class=\"headline-content\"><div class=\"headline-plaque\"><div class=\"suplement-logo product-octubretv\"></div></div><div class=\"article-title \"><a href=\"https://octubretv.com/videos/muejeres-pelicula-colectiva-realizada-por-mujeres-de-argentina-muejeres-pelicula-colectiva-realizada-por-mujeres-de-argentina/mujeres/\" target=\"_blank\" \"> <span class=\"title-separator\">Mujeres</span> <span class=\"title-prefix\">Película colectiva realizada por 390 Mujeres de todo el país. Una producción especial de OctubreTV</span></a></a></div><div class=\"time-author-wrapper article-ta \"></div></div></div></article></div></div></div><div class=\"headline-block-inner\"></div></div></div></div></div></div><div id=\"ad-sticky-right-col\" class=\"ad-sticky-right-col show-for-large\"><div id=\"ad-sticky-home-right\" class=\"ad-sticky-home-right\"><div id=\"div-gpt-ad-1510753058979-0\"></div></div></div></div></div></div><div id=\"ad-sticky-home-bottom\" class=\"home-footer-ad-block page-block--ad-container\"><div class=\"row\"><div class=\"ads-horizontal-expand show-for-medium\"><div id=\"div-gpt-ad-1503943435188-3\"></div></div><div class=\"text-center hide-for-medium\"><div id=\"div-gpt-ad-1504212907322-0\"></div></div></div></div><div class=\"footer black-bg\"><div id=\"footer\" class=\"footer-content row\"><div class=\"wrapper\"><div class=\"row\"><div class=\"large-12 column logos\"><div class=\"large-4 medium-4 small-12 columns social-media hide-for-xsmall-only hide-for-small-only\"><ul><li><a target=\"_blank\" href=\"https://www.facebook.com/Pagina12ok/\"><img src=\"https://www.pagina12.com.ar/assets/media/assets/social/facebook-white.svg?v=1.0.263\"></a></li><li><a target=\"_blank\" href=\"https://twitter.com/pagina12\"><img src=\"https://www.pagina12.com.ar/assets/media/assets/social/twitter-white.svg?v=1.0.263\"></a></li><li><a target=\"_blank\" href=\"https://www.instagram.com/pagina12/\"><img src=\"https://www.pagina12.com.ar/assets/media/assets/social/instagram-white.svg?v=1.0.263\"></a></li><li><a target=\"_blank\" href=\"https://www.youtube.com/channel/UCJNDedOnljCssaiRZqg8-Dg\"><img src=\"https://www.pagina12.com.ar/assets/media/assets/social/youtube-white.svg?v=1.0.263\"></a></li><li><a target=\"_blank\" href=\"https://t.me/pagina12\"><img src=\"https://www.pagina12.com.ar/assets/media/assets/social/telegram-white.svg?v=1.0.263\"></a></li></ul></div><div class=\"large-4 medium-4 small-12 columns header-image\"><a href=\"https://www.pagina12.com.ar\"><img src=\"https://www.pagina12.com.ar/assets/media/assets/Pagina12-Logo-footer_blanco.svg?v=1.0.263\"></a></div><div class=\"large-4 medium-4 small-12 columns social-media show-for-xsmall hide-for-medium\"><ul><li><a target=\"_blank\" href=\"https://www.facebook.com/Pagina12ok/\"><img src=\"https://www.pagina12.com.ar/assets/media/assets/social/facebook-white.svg?v=1.0.263\"></a></li><li><a target=\"_blank\" href=\"https://twitter.com/pagina12\"><img src=\"https://www.pagina12.com.ar/assets/media/assets/social/twitter-white.svg?v=1.0.263\"></a></li><li><a target=\"_blank\" href=\"https://www.instagram.com/pagina12/\"><img src=\"https://www.pagina12.com.ar/assets/media/assets/social/instagram-white.svg?v=1.0.263\"></a></li><li><a target=\"_blank\" href=\"https://www.youtube.com/channel/UCJNDedOnljCssaiRZqg8-Dg\"><img src=\"https://www.pagina12.com.ar/assets/media/assets/social/youtube-white.svg?v=1.0.263\"></a></li><li><a target=\"_blank\" href=\"https://t.me/pagina12\"><img src=\"https://www.pagina12.com.ar/assets/media/assets/social/telegram-white.svg?v=1.0.263\"></a></li></ul></div><div class=\"large-4 medium-4 hide-for-xsmall-only hide-for-small-only columns group\"><a target=\"_blank\" href=\"http://octubre.com\"><img src=\"https://www.pagina12.com.ar/assets/media/assets/Logo-octubre-color-footer.svg?v=1.0.263\"></a></div></div><div class=\"large-12 column page-map\"><div class=\"row\"><div class=\"column large-12\"><div class=\"row\"><div class=\"columns medium-6 large-6\"><div class=\"row\"><div class=\"columns large-4 medium-4\"><h3 class=\"hide-for-xsmall-only hide-for-small-only\">PÁGINA 12</h3><ul class=\"one-column-list\"><li><a href=\"https://www.pagina12.com.ar/pagina/Contacto\">Contacto</a></li></ul><div class=\"rss\"><a href=\"https://www.pagina12.com.ar/pagina/rss\"><img class=\"icon icon--icon-small\" src=\"https://www.pagina12.com.ar/assets/media/assets/icon-rss.svg?v=1.0.263\"> RSS</a></div></div><div class=\"columns large-8 medium-8 hide-for-xsmall-only hide-for-small-only\"><h3>SUPLEMENTOS</h3><ul class=\"three-column-list\"><li><a href=\"https://www.pagina12.com.ar/suplementos/cash\">Cash</a></li><li><a href=\"https://www.pagina12.com.ar/suplementos/el-enganche\">Enganche</a></li><li><a href=\"https://www.pagina12.com.ar/suplementos/radar\">Radar</a></li><li><a href=\"https://www.pagina12.com.ar/suplementos/turismo\">Turismo</a></li><li><a href=\"https://www.pagina12.com.ar/suplementos/radar-libros\">Radar Libros</a></li><li><a href=\"https://www.pagina12.com.ar/suplementos/no\">NO</a></li><li><a href=\"https://www.pagina12.com.ar/suplementos/soy\">Soy</a></li><li><a href=\"https://www.pagina12.com.ar/suplementos/las12\">Las12</a></li><li><a href=\"https://www.pagina12.com.ar/suplementos/universidad\">Universidad</a></li><li><a href=\"https://www.pagina12.com.ar/suplementos/satira12\">Sátira12</a></li><li><a href=\"https://www.pagina12.com.ar/suplementos/m2\">M2</a></li><li><a href=\"https://www.pagina12.com.ar/suplementos/rosario12\">Rosario12</a></li><li><a href=\"https://www.pagina12.com.ar/suplementos/verano12\">Verano12</a></li><li><a href=\"https://www.pagina12.com.ar/suplementos/libero\">Líbero</a></li><li><a href=\"https://www.pagina12.com.ar/suplementos/especiales\">Especiales de P12</a></li></ul></div></div></div><div class=\"columns large-6 medium-6 hide-for-xsmall-only hide-for-small-only\"><h3 class=\"otros\">OTRAS PUBLICACIONES</h3><ul class=\"three-column-list otros\"><li><a href=\"http://radioam750.com.ar\">AM|750</a></li><li><a href=\"https://mucharadio.com.ar/\">Mucha Radio</a></li><li><a href=\"https://oktubre.fm\">Oktubre FM</a></li><li><a href=\"http://carasycaretas.org.ar\">Caras y Caretas</a></li><li><a href=\"https://salas.carasycaretas.org.ar/\">Caras y Caretas Sala</a></li><li><a href=\"https://octubretv.com/\">Octubre TV</a></li><li><a href=\"http://www.editorialoctubre.com.ar\">Editorial Octubre</a></li><li><a href=\"http://www.diarioz.com.ar\">Diario Z</a></li><li><a href=\"http://elplanetaurbano.com\">El Planeta Urbano</a></li><li><a href=\"https://fmlike.com.ar/\">FM Like</a></li><li><a href=\"http://www.iso.edu.ar\">ISO</a></li><li><a href=\"http://umet.edu.ar\">UMET</a></li><li><a href=\"http://latinoamericapiensa.com\">Latinoamérica Piensa</a></li><li><a href=\"http://radiomalena.com\">Malena FM</a></li><li><a href=\"https://www.elnueve.com.ar/\">El Nueve</a></li><li><a href=\"https://cluboctubre947.com/\">Club 947</a></li><li><a href=\"https://fmaspen.com/\">Aspen 102.3</a></li></ul></div></div></div><div class=\"show-for-xsmall hide-for-medium small-12 columns\"><div class=\"group\"><a target=\"_blank\" href=\"http://octubre.com\"><img src=\"https://www.pagina12.com.ar/assets/media/assets/Logo-octubre-color-footer.svg?v=1.0.263\"></a></div></div></div></div><div class=\"column large-12\"><p class=\"disclaimer\"><span>República Argentina</span><span> | </span><span>Todos los derechos reservados</span><span> | </span><a href=\"https://www.pagina12.com.ar/pagina/politica-de-privacidad\">Política de privacidad</a><span> | </span><a href=\"https://www.pagina12.com.ar/pagina/terminos-y-condiciones\">Términos y Condiciones</a><span>&copy; 2000-2020 www.pagina12.com.ar</span></p></div></div></div></div></div></div><div id=\"no-cookies\" class=\"no-cookies-js no-cookies\"><div class=\"no-cookies-js-inner\">Tu navegador tiene deshabilitado el uso de Cookies. Algunas funcionalidades de Página/12 necesitan que lo habilites para funcionar. Si no sabés como hacerlo hacé <a href=\"http://academia.colnodo.apc.org/pluginfile.php/1608/block_html/content/Habilitar%20Cookies.pdf\" target=\"_blank\">CLICK AQUÍ</a><div id=\"no-cookies-close\" class=\"fonticon-close\"></div></div></div><noscript><div id=\"no-js\" class=\"no-cookies-js\"><div  class=\"no-cookies-js-inner\">Tu navegador tiene deshabilitado el uso de Javascript. Muchas de las funcionalidades de Página/12 necesitan que lo habilites para funcionar. Si no sabés como hacerlo hacé <a href=\"https://enable-javascript.com/es\" target=\"_blank\">CLICK AQUÍ</a></div></div></noscript><script type=\"text/javascript\">(function() {function checkCookie() {/* Quick test if browser has cookieEnabled host property */if (navigator.cookieEnabled) return true;/* Create cookie */document.cookie = \"cookietest=1\";var ret = document.cookie.indexOf(\"cookietest=\") != -1;/* Delete cookie */document.cookie = \"cookietest=1; expires=Thu, 01-Jan-1970 00:00:01 GMT\";return ret;}if(!checkCookie()) {var noCookies = document.getElementById('no-cookies');noCookies.style.display = 'block';var noCookiesClose = document.getElementById('no-cookies-close');noCookiesClose.addEventListener('click', function () {noCookies.style.display = 'none';})}})();</script><!--[if lt IE 9]><script src=\"https://cdnjs.cloudflare.com/ajax/libs/html5shiv/3.7.3/html5shiv.min.js\"></script><![endif]--><script type=\"text/javascript\" src=\"https://www.pagina12.com.ar/assets/js/vendor/vendor.min.js?v=1.0.263\"></script><script type=\"text/javascript\" src=\"https://www.pagina12.com.ar/assets/js/main.min.js?v=1.0.263\"></script><script type=\"text/javascript\">$.fn.isInViewport = function() {var elementTop = $(this).offset().top;var elementBottom = elementTop + $(this).outerHeight();var viewportTop = $(window).scrollTop();var viewportBottom = viewportTop + $(window).height();return elementBottom > viewportTop && elementTop < viewportBottom;};</script><script class=\"jwplayer-script\"></script><script type=\"text/javascript\">let playing = false;let youtubePlayers = [];function onIframelyReady(e) {const iframely = window.iframely;iframely && iframely.on('iframe-ready', iframe => {handleIframelyVideos(iframe);});}function handleIframelyVideos(iframe) {if (!playerjs) console.warn('Player.js is not enabled');const player = new playerjs.Player(iframe);player.supports('event', 'play') && player.on('play', onVideoPlay);player.supports('event', 'pause') && player.on('pause', onVideoStop);player.supports('event', 'ended') && player.on('ended', onVideoStop);}function onYouTubeIframeAPIReady() {$youtubeEmbeds = $('.article-youtube-embed');$youtubeEmbeds.each(function(_, youtubeEmbed) {const embedId = $(this).attr('id');createYouTubePlayer(embedId);});}function createYouTubePlayer(playerId) {const newPlayer = new YT.Player(playerId, {events: {'onStateChange': onPlayerStateChange}});youtubePlayers.push(newPlayer);}function onPlayerStateChange(event) {playing = youtubePlayers.some((player) => {return player.getPlayerState() === YT.PlayerState.PLAYING;});if (event.data === YT.PlayerState.PLAYING) {onVideoPlay();}if (event.data === YT.PlayerState.PAUSED || event.data === YT.PlayerState.ENDED) {if (!playing) onVideoStop();}}function onVideoPlay() {if (window.reloadPage) {clearInterval(window.reloadPage.timer);window.reloadPage.counter = '5';}}function onVideoStop() {reloadHandler('5')}function reloadHandler(delay) {/*** Refresh common functions (Mobile and Desktop).*/const isMobile = function() {return (navigator.userAgent.match(/(iPad|iPhone)/i) != null || navigator.userAgent.match(/Android/i) != null);};const onEvent = function() {window.location.reload(true);};/*** Refresh functions for Desktop.*/const timerFn = function() {return setInterval(function(t) {if (userHasWrittenAComment()) {return clearInterval(window.reloadPage.timer);}window.reloadPage.counter--;console.log('Reload timeout:', window.reloadPage.counter, 'minutes');if (window.reloadPage.counter <= 0) {onEvent();}}, 60000);};/*** Returns True if the user has written a Talk comment.** Talk saves the comment in the sessionStorage so, in order* to know whether the user has written a comment, we need* to check if talkPymStorage:DraftArea_comment-draft_xxx* has a value.*/const userHasWrittenAComment = function() {const storageKeys = Object.keys(window.sessionStorage || {});return storageKeys.some((storageKey) => {const userHasCommented = /^talkPymStorage:DraftArea_comment-draft_.*/.test(storageKey);if (userHasCommented) {const commentData = window.sessionStorage.getItem(storageKey);const comment = JSON.parse(commentData || '{}');return comment.body ? comment.body.length > 0 : false;}return false;});};const manageEvent = function(e) {if (window.reloadPage.timer) {window.reloadPage.counter = delay;}};const manageMessageEvent = function(e) {const evntData = {};try {evntData = JSON.parse(e.originalEvent.data);} catch (err) { }if (evntData.channel) {manageEvent(e);}};const initRefreshForDesktop = function() {window.reloadPage = {timer: null,counter: delay};const eventList = ['resize','scroll','touchmove'];if (eventList && eventList.length > 0) {eventList.forEach(function(evt) {$(window).on(evt, manageEvent);});}$('.video-embed-field-responsive-video').on('mouseenter', () => clearInterval(window.reloadPage.timer));$('.video-embed-field-responsive-video').on('mouseleave', () => { window.reloadPage.timer = timerFn(); });$(window).on('message', manageMessageEvent);$('video').on('timeupdate', manageEvent);window.reloadPage.timer = timerFn();};/*** Refresh functions for Mobile.*/let lastTimePageWasInactive = undefined;const getHiddenPropertyFromPrefix = function(prefix) {return prefix ? (prefix + 'Hidden') : 'hidden';};const getVisibilityChangeFromPrefix = function(prefix) {return (prefix || '') + 'visibilitychange';};const getPrefix = function() {const browserPrefixes = ['moz', 'ms', 'o', 'webkit'];for (let index = 0; index < browserPrefixes.length; index++) {const prefix = browserPrefixes[index];if (getHiddenPropertyFromPrefix(prefix) in document) {return prefix;}}return null;};const getHiddenPropertyName = function() {const prefix = getPrefix();return getHiddenPropertyFromPrefix(prefix);};const getVisibilityChangeEventName = function() {const prefix = getPrefix();return getVisibilityChangeFromPrefix(prefix);};const theMinutesOfInactivityHavePassed = function(minutes) {if (lastTimePageWasInactive !== undefined) {const milliseconds = minutes * 60 * 1000;return Date.now() > (lastTimePageWasInactive + milliseconds);} else {return false;}};const onVisibilityChangeEvent = (function(event) {const hiddenProperty = getHiddenPropertyName();return function(event) {if (!document[hiddenProperty] && theMinutesOfInactivityHavePassed(delay)) {onEvent();} else {lastTimePageWasInactive = Date.now();}}})();/*** In mobile, the pages will be reloaded if the current tab* is inactive for a certain amount of time.*/const initRefreshForMobile = function() {$(document).on(getVisibilityChangeEventName(), onVisibilityChangeEvent);};if (isMobile()) {initRefreshForMobile();} else {initRefreshForDesktop();}};window.addEventListener('iframely-ready', onIframelyReady, false);window.onload = () => {if (!playing) reloadHandler('5');};</script></body></html>\n"
     ]
    }
   ],
   "source": [
    "print(p12.text)"
   ]
  },
  {
   "cell_type": "code",
   "execution_count": 7,
   "metadata": {},
   "outputs": [
    {
     "output_type": "execute_result",
     "data": {
      "text/plain": [
       "{'Date': 'Tue, 24 Nov 2020 10:15:53 GMT', 'Content-Type': 'text/html; charset=utf-8', 'Transfer-Encoding': 'chunked', 'Connection': 'keep-alive', 'Set-Cookie': '__cfduid=dd2d334fc7692c3b5b0e5381fd01d438a1606212953; expires=Thu, 24-Dec-20 10:15:53 GMT; path=/; domain=.pagina12.com.ar; HttpOnly; SameSite=Lax', 'Vary': 'Accept-Encoding', 'X-DNS-Prefetch-Control': 'off', 'Strict-Transport-Security': 'max-age=15724800; includeSubDomains', 'X-Download-Options': 'noopen', 'X-Content-Type-Options': 'nosniff', 'X-XSS-Protection': '1; mode=block', 'X-ETag': 'W/\"5ae31-PQjQZeFUvAvaCavKLVA9UB6vvz0\"', 'X-Backend': 'frontend', 'X-Backend-TTL': '180.000', 'X-Type': 'Dynamic URI', 'Age': '2', 'grace': '86400.000 none', 'ttl': '117.564', 'X-Instance': 'cache-front-prod-varnish-7f9f4bb47d-sccpd', 'x-restarts': '0', 'X-Cache': 'HIT (6)', 'CF-Cache-Status': 'DYNAMIC', 'cf-request-id': '069b59bcc60000d2dc5e149000000001', 'Expect-CT': 'max-age=604800, report-uri=\"https://report-uri.cloudflare.com/cdn-cgi/beacon/expect-ct\"', 'Server': 'cloudflare', 'CF-RAY': '5f725f0e0b1fd2dc-EZE', 'Content-Encoding': 'gzip'}"
      ]
     },
     "metadata": {},
     "execution_count": 7
    }
   ],
   "source": [
    "p12.headers"
   ]
  },
  {
   "cell_type": "code",
   "execution_count": 8,
   "metadata": {},
   "outputs": [
    {
     "output_type": "execute_result",
     "data": {
      "text/plain": [
       "{'User-Agent': 'python-requests/2.24.0', 'Accept-Encoding': 'gzip, deflate', 'Accept': '*/*', 'Connection': 'keep-alive'}"
      ]
     },
     "metadata": {},
     "execution_count": 8
    }
   ],
   "source": [
    "p12.request.headers"
   ]
  },
  {
   "cell_type": "code",
   "execution_count": 9,
   "metadata": {},
   "outputs": [
    {
     "output_type": "execute_result",
     "data": {
      "text/plain": [
       "'GET'"
      ]
     },
     "metadata": {},
     "execution_count": 9
    }
   ],
   "source": [
    "p12.request.method"
   ]
  },
  {
   "cell_type": "code",
   "execution_count": 10,
   "metadata": {},
   "outputs": [],
   "source": [
    "from bs4 import BeautifulSoup"
   ]
  },
  {
   "cell_type": "code",
   "execution_count": 12,
   "metadata": {},
   "outputs": [],
   "source": [
    "s = BeautifulSoup(p12.text, 'lxml')"
   ]
  },
  {
   "cell_type": "code",
   "execution_count": 13,
   "metadata": {
    "tags": [
     "outputPrepend"
    ]
   },
   "outputs": [
    {
     "output_type": "stream",
     "name": "stdout",
     "text": [
      "           <div class=\"headline-content\">\n                 <div class=\"headline-plaque\">\n                  <div class=\"suplement-logo product-octubretv\">\n                  </div>\n                 </div>\n                 <div class=\"article-title\">\n                  <a href=\"https://octubretv.com/videos/muejeres-pelicula-colectiva-realizada-por-mujeres-de-argentina-muejeres-pelicula-colectiva-realizada-por-mujeres-de-argentina/mujeres/\" target=\"_blank\">\n                   <span class=\"title-separator\">\n                    Mujeres\n                   </span>\n                   <span class=\"title-prefix\">\n                    Película colectiva realizada por 390 Mujeres de todo el país. Una producción especial de OctubreTV\n                   </span>\n                  </a>\n                 </div>\n                 <div class=\"time-author-wrapper article-ta\">\n                 </div>\n                </div>\n               </div>\n              </article>\n             </div>\n            </div>\n           </div>\n           <div class=\"headline-block-inner\">\n           </div>\n          </div>\n         </div>\n        </div>\n       </div>\n      </div>\n      <div class=\"ad-sticky-right-col show-for-large\" id=\"ad-sticky-right-col\">\n       <div class=\"ad-sticky-home-right\" id=\"ad-sticky-home-right\">\n        <div id=\"div-gpt-ad-1510753058979-0\">\n        </div>\n       </div>\n      </div>\n     </div>\n    </div>\n   </div>\n   <div class=\"home-footer-ad-block page-block--ad-container\" id=\"ad-sticky-home-bottom\">\n    <div class=\"row\">\n     <div class=\"ads-horizontal-expand show-for-medium\">\n      <div id=\"div-gpt-ad-1503943435188-3\">\n      </div>\n     </div>\n     <div class=\"text-center hide-for-medium\">\n      <div id=\"div-gpt-ad-1504212907322-0\">\n      </div>\n     </div>\n    </div>\n   </div>\n   <div class=\"footer black-bg\">\n    <div class=\"footer-content row\" id=\"footer\">\n     <div class=\"wrapper\">\n      <div class=\"row\">\n       <div class=\"large-12 column logos\">\n        <div class=\"large-4 medium-4 small-12 columns social-media hide-for-xsmall-only hide-for-small-only\">\n         <ul>\n          <li>\n           <a href=\"https://www.facebook.com/Pagina12ok/\" target=\"_blank\">\n            <img src=\"https://www.pagina12.com.ar/assets/media/assets/social/facebook-white.svg?v=1.0.263\"/>\n           </a>\n          </li>\n          <li>\n           <a href=\"https://twitter.com/pagina12\" target=\"_blank\">\n            <img src=\"https://www.pagina12.com.ar/assets/media/assets/social/twitter-white.svg?v=1.0.263\"/>\n           </a>\n          </li>\n          <li>\n           <a href=\"https://www.instagram.com/pagina12/\" target=\"_blank\">\n            <img src=\"https://www.pagina12.com.ar/assets/media/assets/social/instagram-white.svg?v=1.0.263\"/>\n           </a>\n          </li>\n          <li>\n           <a href=\"https://www.youtube.com/channel/UCJNDedOnljCssaiRZqg8-Dg\" target=\"_blank\">\n            <img src=\"https://www.pagina12.com.ar/assets/media/assets/social/youtube-white.svg?v=1.0.263\"/>\n           </a>\n          </li>\n          <li>\n           <a href=\"https://t.me/pagina12\" target=\"_blank\">\n            <img src=\"https://www.pagina12.com.ar/assets/media/assets/social/telegram-white.svg?v=1.0.263\"/>\n           </a>\n          </li>\n         </ul>\n        </div>\n        <div class=\"large-4 medium-4 small-12 columns header-image\">\n         <a href=\"https://www.pagina12.com.ar\">\n          <img src=\"https://www.pagina12.com.ar/assets/media/assets/Pagina12-Logo-footer_blanco.svg?v=1.0.263\"/>\n         </a>\n        </div>\n        <div class=\"large-4 medium-4 small-12 columns social-media show-for-xsmall hide-for-medium\">\n         <ul>\n          <li>\n           <a href=\"https://www.facebook.com/Pagina12ok/\" target=\"_blank\">\n            <img src=\"https://www.pagina12.com.ar/assets/media/assets/social/facebook-white.svg?v=1.0.263\"/>\n           </a>\n          </li>\n          <li>\n           <a href=\"https://twitter.com/pagina12\" target=\"_blank\">\n            <img src=\"https://www.pagina12.com.ar/assets/media/assets/social/twitter-white.svg?v=1.0.263\"/>\n           </a>\n          </li>\n          <li>\n           <a href=\"https://www.instagram.com/pagina12/\" target=\"_blank\">\n            <img src=\"https://www.pagina12.com.ar/assets/media/assets/social/instagram-white.svg?v=1.0.263\"/>\n           </a>\n          </li>\n          <li>\n           <a href=\"https://www.youtube.com/channel/UCJNDedOnljCssaiRZqg8-Dg\" target=\"_blank\">\n            <img src=\"https://www.pagina12.com.ar/assets/media/assets/social/youtube-white.svg?v=1.0.263\"/>\n           </a>\n          </li>\n          <li>\n           <a href=\"https://t.me/pagina12\" target=\"_blank\">\n            <img src=\"https://www.pagina12.com.ar/assets/media/assets/social/telegram-white.svg?v=1.0.263\"/>\n           </a>\n          </li>\n         </ul>\n        </div>\n        <div class=\"large-4 medium-4 hide-for-xsmall-only hide-for-small-only columns group\">\n         <a href=\"http://octubre.com\" target=\"_blank\">\n          <img src=\"https://www.pagina12.com.ar/assets/media/assets/Logo-octubre-color-footer.svg?v=1.0.263\"/>\n         </a>\n        </div>\n       </div>\n       <div class=\"large-12 column page-map\">\n        <div class=\"row\">\n         <div class=\"column large-12\">\n          <div class=\"row\">\n           <div class=\"columns medium-6 large-6\">\n            <div class=\"row\">\n             <div class=\"columns large-4 medium-4\">\n              <h3 class=\"hide-for-xsmall-only hide-for-small-only\">\n               PÁGINA 12\n              </h3>\n              <ul class=\"one-column-list\">\n               <li>\n                <a href=\"https://www.pagina12.com.ar/pagina/Contacto\">\n                 Contacto\n                </a>\n               </li>\n              </ul>\n              <div class=\"rss\">\n               <a href=\"https://www.pagina12.com.ar/pagina/rss\">\n                <img class=\"icon icon--icon-small\" src=\"https://www.pagina12.com.ar/assets/media/assets/icon-rss.svg?v=1.0.263\"/>\n                RSS\n               </a>\n              </div>\n             </div>\n             <div class=\"columns large-8 medium-8 hide-for-xsmall-only hide-for-small-only\">\n              <h3>\n               SUPLEMENTOS\n              </h3>\n              <ul class=\"three-column-list\">\n               <li>\n                <a href=\"https://www.pagina12.com.ar/suplementos/cash\">\n                 Cash\n                </a>\n               </li>\n               <li>\n                <a href=\"https://www.pagina12.com.ar/suplementos/el-enganche\">\n                 Enganche\n                </a>\n               </li>\n               <li>\n                <a href=\"https://www.pagina12.com.ar/suplementos/radar\">\n                 Radar\n                </a>\n               </li>\n               <li>\n                <a href=\"https://www.pagina12.com.ar/suplementos/turismo\">\n                 Turismo\n                </a>\n               </li>\n               <li>\n                <a href=\"https://www.pagina12.com.ar/suplementos/radar-libros\">\n                 Radar Libros\n                </a>\n               </li>\n               <li>\n                <a href=\"https://www.pagina12.com.ar/suplementos/no\">\n                 NO\n                </a>\n               </li>\n               <li>\n                <a href=\"https://www.pagina12.com.ar/suplementos/soy\">\n                 Soy\n                </a>\n               </li>\n               <li>\n                <a href=\"https://www.pagina12.com.ar/suplementos/las12\">\n                 Las12\n                </a>\n               </li>\n               <li>\n                <a href=\"https://www.pagina12.com.ar/suplementos/universidad\">\n                 Universidad\n                </a>\n               </li>\n               <li>\n                <a href=\"https://www.pagina12.com.ar/suplementos/satira12\">\n                 Sátira12\n                </a>\n               </li>\n               <li>\n                <a href=\"https://www.pagina12.com.ar/suplementos/m2\">\n                 M2\n                </a>\n               </li>\n               <li>\n                <a href=\"https://www.pagina12.com.ar/suplementos/rosario12\">\n                 Rosario12\n                </a>\n               </li>\n               <li>\n                <a href=\"https://www.pagina12.com.ar/suplementos/verano12\">\n                 Verano12\n                </a>\n               </li>\n               <li>\n                <a href=\"https://www.pagina12.com.ar/suplementos/libero\">\n                 Líbero\n                </a>\n               </li>\n               <li>\n                <a href=\"https://www.pagina12.com.ar/suplementos/especiales\">\n                 Especiales de P12\n                </a>\n               </li>\n              </ul>\n             </div>\n            </div>\n           </div>\n           <div class=\"columns large-6 medium-6 hide-for-xsmall-only hide-for-small-only\">\n            <h3 class=\"otros\">\n             OTRAS PUBLICACIONES\n            </h3>\n            <ul class=\"three-column-list otros\">\n             <li>\n              <a href=\"http://radioam750.com.ar\">\n               AM|750\n              </a>\n             </li>\n             <li>\n              <a href=\"https://mucharadio.com.ar/\">\n               Mucha Radio\n              </a>\n             </li>\n             <li>\n              <a href=\"https://oktubre.fm\">\n               Oktubre FM\n              </a>\n             </li>\n             <li>\n              <a href=\"http://carasycaretas.org.ar\">\n               Caras y Caretas\n              </a>\n             </li>\n             <li>\n              <a href=\"https://salas.carasycaretas.org.ar/\">\n               Caras y Caretas Sala\n              </a>\n             </li>\n             <li>\n              <a href=\"https://octubretv.com/\">\n               Octubre TV\n              </a>\n             </li>\n             <li>\n              <a href=\"http://www.editorialoctubre.com.ar\">\n               Editorial Octubre\n              </a>\n             </li>\n             <li>\n              <a href=\"http://www.diarioz.com.ar\">\n               Diario Z\n              </a>\n             </li>\n             <li>\n              <a href=\"http://elplanetaurbano.com\">\n               El Planeta Urbano\n              </a>\n             </li>\n             <li>\n              <a href=\"https://fmlike.com.ar/\">\n               FM Like\n              </a>\n             </li>\n             <li>\n              <a href=\"http://www.iso.edu.ar\">\n               ISO\n              </a>\n             </li>\n             <li>\n              <a href=\"http://umet.edu.ar\">\n               UMET\n              </a>\n             </li>\n             <li>\n              <a href=\"http://latinoamericapiensa.com\">\n               Latinoamérica Piensa\n              </a>\n             </li>\n             <li>\n              <a href=\"http://radiomalena.com\">\n               Malena FM\n              </a>\n             </li>\n             <li>\n              <a href=\"https://www.elnueve.com.ar/\">\n               El Nueve\n              </a>\n             </li>\n             <li>\n              <a href=\"https://cluboctubre947.com/\">\n               Club 947\n              </a>\n             </li>\n             <li>\n              <a href=\"https://fmaspen.com/\">\n               Aspen 102.3\n              </a>\n             </li>\n            </ul>\n           </div>\n          </div>\n         </div>\n         <div class=\"show-for-xsmall hide-for-medium small-12 columns\">\n          <div class=\"group\">\n           <a href=\"http://octubre.com\" target=\"_blank\">\n            <img src=\"https://www.pagina12.com.ar/assets/media/assets/Logo-octubre-color-footer.svg?v=1.0.263\"/>\n           </a>\n          </div>\n         </div>\n        </div>\n       </div>\n       <div class=\"column large-12\">\n        <p class=\"disclaimer\">\n         <span>\n          República Argentina\n         </span>\n         <span>\n          |\n         </span>\n         <span>\n          Todos los derechos reservados\n         </span>\n         <span>\n          |\n         </span>\n         <a href=\"https://www.pagina12.com.ar/pagina/politica-de-privacidad\">\n          Política de privacidad\n         </a>\n         <span>\n          |\n         </span>\n         <a href=\"https://www.pagina12.com.ar/pagina/terminos-y-condiciones\">\n          Términos y Condiciones\n         </a>\n         <span>\n          © 2000-2020 www.pagina12.com.ar\n         </span>\n        </p>\n       </div>\n      </div>\n     </div>\n    </div>\n   </div>\n  </div>\n  <div class=\"no-cookies-js no-cookies\" id=\"no-cookies\">\n   <div class=\"no-cookies-js-inner\">\n    Tu navegador tiene deshabilitado el uso de Cookies. Algunas funcionalidades de Página/12 necesitan que lo habilites para funcionar. Si no sabés como hacerlo hacé\n    <a href=\"http://academia.colnodo.apc.org/pluginfile.php/1608/block_html/content/Habilitar%20Cookies.pdf\" target=\"_blank\">\n     CLICK AQUÍ\n    </a>\n    <div class=\"fonticon-close\" id=\"no-cookies-close\">\n    </div>\n   </div>\n  </div>\n  <noscript>\n   <div class=\"no-cookies-js\" id=\"no-js\">\n    <div class=\"no-cookies-js-inner\">\n     Tu navegador tiene deshabilitado el uso de Javascript. Muchas de las funcionalidades de Página/12 necesitan que lo habilites para funcionar. Si no sabés como hacerlo hacé\n     <a href=\"https://enable-javascript.com/es\" target=\"_blank\">\n      CLICK AQUÍ\n     </a>\n    </div>\n   </div>\n  </noscript>\n  <script type=\"text/javascript\">\n   (function() {function checkCookie() {/* Quick test if browser has cookieEnabled host property */if (navigator.cookieEnabled) return true;/* Create cookie */document.cookie = \"cookietest=1\";var ret = document.cookie.indexOf(\"cookietest=\") != -1;/* Delete cookie */document.cookie = \"cookietest=1; expires=Thu, 01-Jan-1970 00:00:01 GMT\";return ret;}if(!checkCookie()) {var noCookies = document.getElementById('no-cookies');noCookies.style.display = 'block';var noCookiesClose = document.getElementById('no-cookies-close');noCookiesClose.addEventListener('click', function () {noCookies.style.display = 'none';})}})();\n  </script>\n  <!--[if lt IE 9]><script src=\"https://cdnjs.cloudflare.com/ajax/libs/html5shiv/3.7.3/html5shiv.min.js\"></script><![endif]-->\n  <script src=\"https://www.pagina12.com.ar/assets/js/vendor/vendor.min.js?v=1.0.263\" type=\"text/javascript\">\n  </script>\n  <script src=\"https://www.pagina12.com.ar/assets/js/main.min.js?v=1.0.263\" type=\"text/javascript\">\n  </script>\n  <script type=\"text/javascript\">\n   $.fn.isInViewport = function() {var elementTop = $(this).offset().top;var elementBottom = elementTop + $(this).outerHeight();var viewportTop = $(window).scrollTop();var viewportBottom = viewportTop + $(window).height();return elementBottom > viewportTop && elementTop < viewportBottom;};\n  </script>\n  <script class=\"jwplayer-script\">\n  </script>\n  <script type=\"text/javascript\">\n   let playing = false;let youtubePlayers = [];function onIframelyReady(e) {const iframely = window.iframely;iframely && iframely.on('iframe-ready', iframe => {handleIframelyVideos(iframe);});}function handleIframelyVideos(iframe) {if (!playerjs) console.warn('Player.js is not enabled');const player = new playerjs.Player(iframe);player.supports('event', 'play') && player.on('play', onVideoPlay);player.supports('event', 'pause') && player.on('pause', onVideoStop);player.supports('event', 'ended') && player.on('ended', onVideoStop);}function onYouTubeIframeAPIReady() {$youtubeEmbeds = $('.article-youtube-embed');$youtubeEmbeds.each(function(_, youtubeEmbed) {const embedId = $(this).attr('id');createYouTubePlayer(embedId);});}function createYouTubePlayer(playerId) {const newPlayer = new YT.Player(playerId, {events: {'onStateChange': onPlayerStateChange}});youtubePlayers.push(newPlayer);}function onPlayerStateChange(event) {playing = youtubePlayers.some((player) => {return player.getPlayerState() === YT.PlayerState.PLAYING;});if (event.data === YT.PlayerState.PLAYING) {onVideoPlay();}if (event.data === YT.PlayerState.PAUSED || event.data === YT.PlayerState.ENDED) {if (!playing) onVideoStop();}}function onVideoPlay() {if (window.reloadPage) {clearInterval(window.reloadPage.timer);window.reloadPage.counter = '5';}}function onVideoStop() {reloadHandler('5')}function reloadHandler(delay) {/*** Refresh common functions (Mobile and Desktop).*/const isMobile = function() {return (navigator.userAgent.match(/(iPad|iPhone)/i) != null || navigator.userAgent.match(/Android/i) != null);};const onEvent = function() {window.location.reload(true);};/*** Refresh functions for Desktop.*/const timerFn = function() {return setInterval(function(t) {if (userHasWrittenAComment()) {return clearInterval(window.reloadPage.timer);}window.reloadPage.counter--;console.log('Reload timeout:', window.reloadPage.counter, 'minutes');if (window.reloadPage.counter <= 0) {onEvent();}}, 60000);};/*** Returns True if the user has written a Talk comment.** Talk saves the comment in the sessionStorage so, in order* to know whether the user has written a comment, we need* to check if talkPymStorage:DraftArea_comment-draft_xxx* has a value.*/const userHasWrittenAComment = function() {const storageKeys = Object.keys(window.sessionStorage || {});return storageKeys.some((storageKey) => {const userHasCommented = /^talkPymStorage:DraftArea_comment-draft_.*/.test(storageKey);if (userHasCommented) {const commentData = window.sessionStorage.getItem(storageKey);const comment = JSON.parse(commentData || '{}');return comment.body ? comment.body.length > 0 : false;}return false;});};const manageEvent = function(e) {if (window.reloadPage.timer) {window.reloadPage.counter = delay;}};const manageMessageEvent = function(e) {const evntData = {};try {evntData = JSON.parse(e.originalEvent.data);} catch (err) { }if (evntData.channel) {manageEvent(e);}};const initRefreshForDesktop = function() {window.reloadPage = {timer: null,counter: delay};const eventList = ['resize','scroll','touchmove'];if (eventList && eventList.length > 0) {eventList.forEach(function(evt) {$(window).on(evt, manageEvent);});}$('.video-embed-field-responsive-video').on('mouseenter', () => clearInterval(window.reloadPage.timer));$('.video-embed-field-responsive-video').on('mouseleave', () => { window.reloadPage.timer = timerFn(); });$(window).on('message', manageMessageEvent);$('video').on('timeupdate', manageEvent);window.reloadPage.timer = timerFn();};/*** Refresh functions for Mobile.*/let lastTimePageWasInactive = undefined;const getHiddenPropertyFromPrefix = function(prefix) {return prefix ? (prefix + 'Hidden') : 'hidden';};const getVisibilityChangeFromPrefix = function(prefix) {return (prefix || '') + 'visibilitychange';};const getPrefix = function() {const browserPrefixes = ['moz', 'ms', 'o', 'webkit'];for (let index = 0; index < browserPrefixes.length; index++) {const prefix = browserPrefixes[index];if (getHiddenPropertyFromPrefix(prefix) in document) {return prefix;}}return null;};const getHiddenPropertyName = function() {const prefix = getPrefix();return getHiddenPropertyFromPrefix(prefix);};const getVisibilityChangeEventName = function() {const prefix = getPrefix();return getVisibilityChangeFromPrefix(prefix);};const theMinutesOfInactivityHavePassed = function(minutes) {if (lastTimePageWasInactive !== undefined) {const milliseconds = minutes * 60 * 1000;return Date.now() > (lastTimePageWasInactive + milliseconds);} else {return false;}};const onVisibilityChangeEvent = (function(event) {const hiddenProperty = getHiddenPropertyName();return function(event) {if (!document[hiddenProperty] && theMinutesOfInactivityHavePassed(delay)) {onEvent();} else {lastTimePageWasInactive = Date.now();}}})();/*** In mobile, the pages will be reloaded if the current tab* is inactive for a certain amount of time.*/const initRefreshForMobile = function() {$(document).on(getVisibilityChangeEventName(), onVisibilityChangeEvent);};if (isMobile()) {initRefreshForMobile();} else {initRefreshForDesktop();}};window.addEventListener('iframely-ready', onIframelyReady, false);window.onload = () => {if (!playing) reloadHandler('5');};\n  </script>\n </body>\n</html>\n"
     ]
    }
   ],
   "source": [
    "print(s.prettify())"
   ]
  },
  {
   "cell_type": "code",
   "execution_count": 23,
   "metadata": {},
   "outputs": [
    {
     "output_type": "execute_result",
     "data": {
      "text/plain": [
       "[<li class=\"p12-separator--right--primary\"><a href=\"https://www.pagina12.com.ar/secciones/el-pais\">El país</a></li>,\n",
       " <li class=\"p12-separator--right--primary\"><a href=\"https://www.pagina12.com.ar/secciones/economia\">Economía</a></li>,\n",
       " <li class=\"p12-separator--right--primary\"><a href=\"https://www.pagina12.com.ar/secciones/sociedad\">Sociedad</a></li>,\n",
       " <li class=\"no-separator-on-1040 p12-separator--right--primary\"><a href=\"https://www.pagina12.com.ar/suplementos/cultura-y-espectaculos\">Cultura y Espectáculos</a></li>,\n",
       " <li class=\"hide-on-1040 p12-separator--right--primary\"><a href=\"https://www.pagina12.com.ar/secciones/deportes\">Deportes</a></li>,\n",
       " <li class=\"hide-on-1040 p12-separator--right--primary\"><a href=\"https://www.pagina12.com.ar/secciones/el-mundo\">El mundo</a></li>,\n",
       " <li class=\"hide-on-1040\"><a href=\"https://www.pagina12.com.ar/secciones/plastica\">Plástica</a></li>]"
      ]
     },
     "metadata": {},
     "execution_count": 23
    }
   ],
   "source": [
    "sections = s.find('ul', attrs={'class': 'main-sections'}).find_all('li')\n",
    "sections"
   ]
  },
  {
   "cell_type": "code",
   "execution_count": 24,
   "metadata": {},
   "outputs": [
    {
     "output_type": "execute_result",
     "data": {
      "text/plain": [
       "<li class=\"p12-separator--right--primary\"><a href=\"https://www.pagina12.com.ar/secciones/el-pais\">El país</a></li>"
      ]
     },
     "metadata": {},
     "execution_count": 24
    }
   ],
   "source": [
    "first = sections[0]\n",
    "first"
   ]
  },
  {
   "cell_type": "code",
   "execution_count": 25,
   "metadata": {},
   "outputs": [
    {
     "output_type": "execute_result",
     "data": {
      "text/plain": [
       "<a href=\"https://www.pagina12.com.ar/secciones/el-pais\">El país</a>"
      ]
     },
     "metadata": {},
     "execution_count": 25
    }
   ],
   "source": [
    "first.find('a')"
   ]
  },
  {
   "cell_type": "code",
   "execution_count": 28,
   "metadata": {},
   "outputs": [
    {
     "output_type": "execute_result",
     "data": {
      "text/plain": [
       "<a href=\"https://www.pagina12.com.ar/secciones/el-pais\">El país</a>"
      ]
     },
     "metadata": {},
     "execution_count": 28
    }
   ],
   "source": [
    "first.a"
   ]
  },
  {
   "cell_type": "code",
   "execution_count": 29,
   "metadata": {},
   "outputs": [
    {
     "output_type": "execute_result",
     "data": {
      "text/plain": [
       "'El país'"
      ]
     },
     "metadata": {},
     "execution_count": 29
    }
   ],
   "source": [
    "first.a.get_text()"
   ]
  },
  {
   "cell_type": "code",
   "execution_count": 30,
   "metadata": {},
   "outputs": [
    {
     "output_type": "execute_result",
     "data": {
      "text/plain": [
       "'https://www.pagina12.com.ar/secciones/el-pais'"
      ]
     },
     "metadata": {},
     "execution_count": 30
    }
   ],
   "source": [
    "first.a.get('href')"
   ]
  },
  {
   "cell_type": "code",
   "execution_count": 32,
   "metadata": {},
   "outputs": [
    {
     "output_type": "execute_result",
     "data": {
      "text/plain": [
       "['https://www.pagina12.com.ar/secciones/el-pais',\n",
       " 'https://www.pagina12.com.ar/secciones/economia',\n",
       " 'https://www.pagina12.com.ar/secciones/sociedad',\n",
       " 'https://www.pagina12.com.ar/suplementos/cultura-y-espectaculos',\n",
       " 'https://www.pagina12.com.ar/secciones/deportes',\n",
       " 'https://www.pagina12.com.ar/secciones/el-mundo',\n",
       " 'https://www.pagina12.com.ar/secciones/plastica']"
      ]
     },
     "metadata": {},
     "execution_count": 32
    }
   ],
   "source": [
    "link_sections = [section.a.get('href') for section in sections]\n",
    "link_sections"
   ]
  },
  {
   "cell_type": "code",
   "execution_count": 33,
   "metadata": {},
   "outputs": [],
   "source": [
    "first_link = link_sections[0]"
   ]
  },
  {
   "cell_type": "code",
   "execution_count": 34,
   "metadata": {},
   "outputs": [],
   "source": [
    "sec = requests.get(first_link)"
   ]
  },
  {
   "cell_type": "code",
   "execution_count": 35,
   "metadata": {},
   "outputs": [
    {
     "output_type": "execute_result",
     "data": {
      "text/plain": [
       "<Response [200]>"
      ]
     },
     "metadata": {},
     "execution_count": 35
    }
   ],
   "source": [
    "sec"
   ]
  },
  {
   "cell_type": "code",
   "execution_count": 36,
   "metadata": {},
   "outputs": [
    {
     "output_type": "execute_result",
     "data": {
      "text/plain": [
       "200"
      ]
     },
     "metadata": {},
     "execution_count": 36
    }
   ],
   "source": [
    "sec.status_code"
   ]
  },
  {
   "cell_type": "code",
   "execution_count": 37,
   "metadata": {},
   "outputs": [],
   "source": [
    "s2 = BeautifulSoup(sec.text, 'lxml')"
   ]
  },
  {
   "cell_type": "code",
   "execution_count": 40,
   "metadata": {},
   "outputs": [],
   "source": [
    "article_list = s2.find_all('div', attrs={'class': 'article-item__content-footer-wrapper'})"
   ]
  },
  {
   "cell_type": "code",
   "execution_count": 41,
   "metadata": {},
   "outputs": [
    {
     "output_type": "execute_result",
     "data": {
      "text/plain": [
       "['https://www.pagina12.com.ar/307693-sara-osatinsky-el-represor-vergez-me-conto-paso-a-paso-el-as',\n",
       " 'https://www.pagina12.com.ar/307664-monzo-y-macri-ya-pelean-la-interna-bonaerense',\n",
       " 'https://www.pagina12.com.ar/307666-a-celebrar-el-dia-de-la-construccion',\n",
       " 'https://www.pagina12.com.ar/307528-confirman-que-el-helicoptero-de-jorge-brito-impacto-con-el-c',\n",
       " 'https://www.pagina12.com.ar/307603-posnets-y-pago-con-qr-para-la-economia-popular',\n",
       " 'https://www.pagina12.com.ar/307627-comienza-el-regreso-de-los-varados-a-formosa',\n",
       " 'https://www.pagina12.com.ar/307631-murio-sara-solarz-de-osatinsky-testigo-clave-del-robo-de-beb',\n",
       " 'https://www.pagina12.com.ar/307636-los-arrepentidos-y-una-batalla-judicial-pendiente',\n",
       " 'https://www.pagina12.com.ar/307651-el-congreso-se-prepara-para-una-semana-de-agitados-debates',\n",
       " 'https://www.pagina12.com.ar/307661-ultima-visita-de-las-cinco-del-ano',\n",
       " 'https://www.pagina12.com.ar/307663-para-que-bolivia-sea-miembro-pleno-de-mercosur']"
      ]
     },
     "metadata": {},
     "execution_count": 41
    }
   ],
   "source": [
    "article_link_list = [article.find('a').get('href') for article in article_list]\n",
    "article_link_list"
   ]
  },
  {
   "cell_type": "code",
   "execution_count": 42,
   "metadata": {},
   "outputs": [
    {
     "output_type": "stream",
     "name": "stdout",
     "text": [
      "HTTPConnectionPool(host='mala-url-232323.com', port=80): Max retries exceeded with url: / (Caused by NewConnectionError('<urllib3.connection.HTTPConnection object at 0x7f98c8b69670>: Failed to establish a new connection: [Errno 8] nodename nor servname provided, or not known'))\n"
     ]
    }
   ],
   "source": [
    "# Hacer las llamadas previendo un error\n",
    "try:\n",
    "    requests.get('http://mala-url-232323.com')\n",
    "except Exception as e:\n",
    "        print(e)"
   ]
  },
  {
   "cell_type": "code",
   "execution_count": 43,
   "metadata": {},
   "outputs": [
    {
     "output_type": "stream",
     "name": "stdout",
     "text": [
      "'NoneType' object has no attribute 'get'\n"
     ]
    }
   ],
   "source": [
    "try:\n",
    "    s2.zxzxzx.get('href')\n",
    "except Exception as e:\n",
    "        print(e)"
   ]
  },
  {
   "cell_type": "code",
   "execution_count": 68,
   "metadata": {},
   "outputs": [],
   "source": [
    "def get_news(link):\n",
    "    try:\n",
    "        first_news_html = requests.get(link)\n",
    "        first_news = BeautifulSoup(first_news_html.text, 'lxml')\n",
    "        title = first_news.find('h1', attrs={'class': 'article-title'}).text\n",
    "        date = first_news.find('span', attrs={'pubdate': 'pubdate'}).get('datetime')\n",
    "        volanta = first_news.find('h2', attrs={'class': 'article-prefix'}).text\n",
    "        img_url = first_news.find('div', attrs={'class': 'article-main-media-image'}).find_all('img')[-1].get('data-src')\n",
    "        img = requests.get(img_url)\n",
    "        return {\n",
    "            'title': title,\n",
    "            'date': date,\n",
    "            'volanta': volanta,\n",
    "            'img': img.content,\n",
    "            'link': link\n",
    "        }\n",
    "    except Exception as e:\n",
    "        print(e)\n",
    "        print(f'Error in link: {link}')\n",
    "        print('\\n\\n')"
   ]
  },
  {
   "cell_type": "code",
   "execution_count": 69,
   "metadata": {},
   "outputs": [],
   "source": [
    "data = [get_news(link) for link in article_link_list]"
   ]
  },
  {
   "cell_type": "code",
   "execution_count": 70,
   "metadata": {},
   "outputs": [
    {
     "output_type": "execute_result",
     "data": {
      "text/plain": [
       "07\\xb6\\x99\\xbd{w\\x8f\\xe7\\xc7\\n\"\\x8c\\n\\xc8\\xb9 3v{\\xf58\\xb71^\\xc9\\x92T\\xb2\\xcc{\\xc6\\xb7\\xc8T\\x00\\x16\\x1c\\x8cdz[2\\xf9\\xe3\\xa8@.kQ;?\\x8c\\xc7[\\xe1`\\xbc\\xf4K\\xac6|{\\xeeqc\\x0eis ]\\xe6\\xcb>\\xe65\\x11\\x01\\x05\\xaf%\\xdb\\xef7_9\\xe2uJ\\x10\\xb9C\\xa0\\xf9\\xe5bL\\x1a\\xa1\\x84p\\x95[x\\xf2\\xa0S\\x91e\\xe6\\xa8B[\\xd3V\\xba\\xa5\\x13\\x13!W\\x87L`)\\x86\\xc6\\xd5\\x88h\\x1cZ\\xe2\\x85D@mj\\xd7j\\xef*\\x87\\\\\\xafz\\x13\\xc1\\xa0$\\x1a\\xe9\\xbb[^\\x0c\\x83\\x13\\x92\\xed\\x02,?g\\x1f. , \\x11\\xc4Da\\x80G<\\xf4\\x18\\xe4\\xc2^\\r\\x1eN&i\\xc9\\xf6U\\xc0\\x88\\x99\\x12.\\xd6W\\x12\\xf2\\xb8J\\xad\\xd0\\x82\\x12\\xad\\xad\\xc5w\\x14!i\\xf4~>Iy?C\\xc7\\x87\\xbf\\x0f\\xf1\\xf3\\xff\\x00\\xc1\\xb3\\xe4\\xf7\\xdf\\xdf5|\\x9f\\xb9\\x9f\\xe8~\\x0e k0\\xcb\\xd2_\\xb2\\xeb\\xdbNV0\\x94\\x8cT\\x83%Y\\x19M\\xe3\\xa4E\\xad\".\\x1e so\\xd7\\xc9\\xc6\\x145\\x878\\xc0\\xe1I\\x7f\\x01\\xf1]|\\t\\xeekmM\\xbd\\xfbG\\xdaX)W\\x13\\xbf\\r\\xbf\\x97\\xc5\\xc1S\\x00h\\xc67\\x01k\\x0e\\xb2\\x06s\\xde\\x04A\\xc2\\xe4\\xcb\\xdfg\\xcf\\x9f\\x1cr@T\\xb9\\x0ff\\xa2\\xb2o\\xf3\\xc86\\xa9v\\x97\\xb3\\xed)o\\xe7\\x94\\xb8\\xdf\\x7f\\xf7\\xfbN\\x18\\xc240(G)\\xe3\\xaf\\xf7\\xcb\\xcb\\x08|\\xdc\\xdc\\xd3\\xf7\\xe6\\xa2\\x08-\\xedS\\xbe\\xff\\x00/\\xef\\xfe5(O{n\\x0f\\x8cc}\\xf0\\x02U\\xe8u\\x9e\\xc3\\xdf\\x9e\\xee\\xb8\\xc6f\\xd2d\\x02\\n\\x1e\\rq\\xac\\xdf\\x1c\\xaa\\xc4.\\x01c\\x18-\\xbf\\x1a:\\x0eJ\\x94\\xb7`\\x8d\\xb0\\xb2}M\\xef<\\xc05\\xa4\\xc1\\xb2\\x03=1\\x8cv\\xc0\\xccyHhg\\xd7\\xf7\\xcf\\x14T\\xa1\\xb0U8\\xcfn\\xba\\xcf\\x8d\\x8e\\xaaxX0n\\x0c\\xc1\\x0b\\xe7\\xc69C\\xd0\\xaa\\xc5\\xca\\x98\\xa9\\xf0\\x92a/\\x08\\x94UY\\xcf\\x91\\xbd\\x81c\\xad\\xa7|\\x03\\xc7\\x03\\x1d%\\xb1;\\x0cz\\x0c\\x1b\\x99BX\\x9d\"Lz\\xdd\\xeb\\xef\\x881\\x8e\\xcf\\xbc\\xbfx\\xf51\\xc2\\xc6l\\xce\\xa9\\x06v\\xfb\\xf6F\\xbc\\x08\\xc4 \\x02\\xe7\\xf0\\x18-O\\xb8W!\\xe0\\x05TKnU\\xf1\\xf8Y\"\\xe4mL\\x05\\x01B2\\x14\\xea\\x1exX0\\t\\x83\"VfK\\xd5|k0vD\\x9f+\\xd2\\xd7xo\\xefOy\\x9a\\xe4\\xee\\x1b\\x8c\\xe1\\x1d\\xd9\\xdf\"\\xa6\\xd9+\\xa6\\xd4(\\x11\\xa6\\xa4\\xd4\\xe4m@* \\xc5\\x05\\x15uG\\xe71y\\x1f\\x05\\x93\\xce\\r\\t[\\x93\\r{^N\\xe4@\\x84\\n!\\x02\\xea !#\\xbe`qcP\\x8b\\x98#!\\xc8{\\xd1y\\t&\\x0b4e\\xedd\\xc8\\xcaf\\xf2\\xbay\\\\\\x18\\xc9S\\xa9\\x0f\\xc4\\xea\\x86\\xcaVB\\x84Bt)\\x1fDT\\x0b\\x00&\"c\\xa6\\x1f\\x1e5\\x1d\\x04\\xe9EiM$0\\xc1\\x9c\\xba\\xc69b\\x1a^\\xc0\\xc9\\xae\\x16\\x86\\xdd\\x88`\\xc2\\x80[!\\x019\\x1c\\x85VUU\\xa0\\xde\\x1e\\xe4\\x94\\x1e\\x0cxi\\x8f\\x93\\xc0p\\x99sHS-\\x94\\x04\\x85\\x9d\\x93<B\\x0e\\x1d\\x94\\xab-k*\\xb2\\x8eW<\\x00\\x0e\\xb9\\x12\\x15\\xd2\\x1au\\xae\\xe39\\xad\\x80\\xf4\\x93\\xda8\\xef\\xa7\\xc7\\x07i|\\xdc\\xb4J\\xf7\\xfcy\\xe1*\\x14\\xda)\\x11\\xa5\\xca`\\xef\\xcbg\\x0b`v0c3\\xf8~\\xb0f\\xf2\\x1e\\x0f\\xc7\\x1c\\xab1J.KH\\xc7\\xa4\\x7f\\x1c*\\x83<\\x11QX\\xad\\x19_\\x01C\\x8b\\xc0\\xecBL\\x0c\\n\\x88k \\x1a\\xe4\\xa2C\\x00\\xf8\\x01\\x92\"`\\xa9Y\\x04\\xdc\\x10\\x1e\\xc2\\x827\\x05b\\x8d\\x8bCJ\\x01Z\\xc5r\\xbe\\xa0\\x0cx\\xf5\\xbcr\\xe1\\x08B\\xc7F_.V\\x87kG\\x82\\xaa0\\xc84\\xaa\\x19\\xe1\\xe5\\x97C\\xc3T!\\xa9``8Y8\\xda\\xc0\\xbcu#\"\\xe4*\\x88\\x98M\\xf4J\\xd6\\xf1*\\xb8\\x02VE\\x04\\xa7JF2\\xc8\"\\x18J\\xea\\xc0&bX\\x14 \\x11\\x081\\xa1R\\x15F\\xc03\\x12\\xbcK\\xc0\\x04\\x10A\\xe8\\xf801$\\x90\\x1c8i\\xa7f\\x18\\xdc$\\xc14\\x7f\\xae?Y\\x08\\xe8\\x94\\xf1\\x85\\xfdN\\x97<\\x8a\\xa8\\x89IYE\\x0b,A\\x8c\\x98\\xc1\\xc4\\x99\\x00@ \\r\\xd50S\\x06\\x1a\\x80u\\xc3\\xd3y\\x85\\x87\\x94\\x80h\\xbc\\x96\\xcey$!C\\x0c\\xe9\\x80\\t\\xc2\\xc6rl\\xa6\\x98A\\x9e#d\\xe7Q%C;\\x14G\\n\\x19\\x13k\\x8f\\xb9.\\x04P\\xc1\\x88\\xa60\\xd6a&}\\xbc\\xf3\\x82\\x0e\\x8d\\x0c\\xb9;\\x9f/\\xbb\\xc0\\xd8\\x03\\xac\\x10l0x\\x1f9\\xe1\\xc0\\x81/\\xb3\\x04\\xa1\\xf1\\x83\\x053\\xb6p$\\x8dN\\x94\\xaa\\xcc\\xa6a\\xf3\\xfc\\xf2hl\\x18\\x15\\xf1\\xbc\\xd2\\x17\\xcf\\x8f\\xbe\\xc4\\xc5\\x90\\\\[\\x9bz\\x9dmq$\\xe0\\xa9\\xb0\\xe3\\n8\\xd4L\\xe3\\x8e\\x92U\\x16\\x90\\xcf\\x029\\xf9g\\xb3\\x1cy\\xed\\x15gWV\\x10\\xf5\\x8f=\\xbc\\x98\\xa8n\\xc4z\\xceC\\xfb\\xbdp\\x9bj\\xa8%p\\xbd\\xd7\\x02\\xe4\\xf9\\x1a<\"\\x91\\xd3\\x15d\\t\\xbf\\x1b\\xf3\\xbb\\xc1QT\\xe8\\x14\\xc2\\xb3O\\x8c\\x87l\\xc6\\x8e!\\xddT\\xc3\\\\\\x1f\\xf7\\xe7\\x1f\\x8e(\\x10\\xa4\\xc3\\xaf\\x88\\xf7\\xad\\xf5\\xeb\\x8bR\\x07\\xb3|f\\xff\\x00\\xbf\\xd3\\x89\\x11j\\xfe\\xb6ICm\\xce\\xeb\\x87\\nb\\xcc}\\xb3\\x86\\xd8\\x8c\\xf5\\xf8\\x9c\\xc3_\\x92\\x7fq\\xfe\\xfb\\xe2\\xb0\\x83\\xa0\\x8a.\\x85\\x98\\xb7g_\\\\\\x11\\x87^\\xc6\\xf3\\x9e\\xd7\\x11X\\xa72ND\\x01\\xf9\\x8c/\\xdcC\\xf7\\x9aW\\xc6PqF!\\xc53n\\xb1+\\xc9\\x05\\xe9+\\x94F\\x84\\xa4qw\\xae\\x10\\x8c\\xc9\\x8c\\xa3 \\xbf#\\xce\\x01\\xc2p\\xf9\\x8d\\x8f\\xddi\\x16\\xe8\\x8a\\xf7x\\x80\\xa8\\x91w\\xd7\\xf0G\\x8c\\xdf/\\x16\\xc0\\x90\\x00\\x84\\x81\\xdd\\xab\\xe3\\xbf\\x96\\xf0UYk\\xbd\\xb4\\xf6\\xf9\\xef\\xa8L\\xb2\\xc1\\tBAW\\x051<\\x07@\\xf6E\\x9c\\x989O\\x92\\x03\\x88z\\xa5q\\xcb\\x10\\xe0\\xb0\\xd2Z*&\\x84\\x81|\\xa7+\\xa4\\xf8sR*\\t\\x82@\\x9dp\\x93P\\xa5roY\\x9e\\xbc\\xfeY\\xca2\\x08S&3\\xe0\\xc9\\xda\\xe0\\x8f\\x93e\\x8e\\xa5\\xeea^\\xb0>\\xfe:\\xe3\\x02\\xca\\xdf^\\xdf\\xdc\\xbf\\x97\\x88:\\x86\\xb3\\x8du\\xff\\x009\\x0c\\x93\\xb3c\\xf1q\\xfd\\xb8\\xcf\\'\\xfa\\xf8\\xa3\\xe1\\xad4\\xdeg\\x88X|\\x82\\n\\x9e\\xbc\\xc2\\xb8+n\\xc6\\x97\\x14\\x91\\xc3Z\\x94!\\t\\x91\\x8a\\x91\\x0e\\xaa\\x16t\"\\x02e\\xa9\\xde \\x0c\\xaa\\xe9\\x15\\x94\\xd9\\xbf\\xc3YM-\\x01\\xc9A+\\x0fQBN\\xa6\\xa6!8+R\\xfc\\xb8\\x9dtx\\xf8\\xfc\\x1c\\x15\\x92\\x06\\x8b]\\xe7\\xaa\\x9fM\\xe6\\xf4\\xe3\\xb5\\x0e|\\xb06\\xc3\\xd6\\xdf\\r\\x98b\\x18C\\xea\\xf8\\xfe\\xfa\\xe0\\x03\\xcf{\\x99\\xd6\\x138\\xfdu\\xdf7\\xb89@s\\xa6\\xe4z<K\\xdf\\x1d:\\xb9J\\x9a\\x9e\\xeb&\\xbf\\xa7&h\\x93\\xee\\x8f\\x99\\xdf\\xc9\\x8c\\x9b\\xa7*M\\x8f\\xdc\\xf1<w\\xaf\\xbe\\x93\\x16CX\\xa0\\xe3\\xb3X\\x98\\xfc\\xf2\\x1b\\xfc\\x81\\xfd\\xceSs\\x19\\x9f\\x07V\\x1f\\xbe8#\\xb8\\x1b2B]Kh\\xae\\xee\\x1c^F\\x8aV\\xd64\\xb9,\\xdf\\xb3\\xcb\\x9ej\\xec<^\\xc39\\xcf\\x85\\x9b0\\x19\\xb3\\xba3p\\x1a\\xba\\xd3\\x9fA\\x8f\\xa7\\x99\\xe0\\n\\xe6\\xc1\\x8c\\xb7%\\xfd|fp`\\t\\xde\\t\\xaf\\x91\\xf7\\xd7+\\xa8\\xc1u\\x1d\\xb9CL\\xf8C\\xae-\\xa2\\x00\\x1912\\x81\\xcd\\x98\\xc2\\xae\\xeb\\x94\\xc0f\\x84\\xac\\xd7&\\xa7_\\xa5\\xe1\\x05\\x83\\xaeC\\xd6\\x19\\xf1\\x1c\\x1a\\x16u\\xc1M\\xc2I\\x8e\\xe7\\xc6:\\xf9\\xfd\\x892)\\x85\\x0c\\xc1\\x851\\xbe\\xb8@\\x19H\\x00`\\x82d\\xf3po9\\xcf\\x1b\\xb2V\\xaeC3c\\x19S\\xc6Q\\x80\\x80\\xcc\\xf0U\\x07\\xbbW\\x19\\xd1\\xd1\\xc5j\\x0c\\x04\\xb4\\x80\\x03\\\\Gb\\xed\\x9cp(5Z\\x0b!\\xf3\\xf3\\x97\\xae\\xd3\\x92\\xba\\x98n\\xc2\\x94o\\xedrqOQ^\\x83rT\\xc6=H\\x9b\\xe0\\x00+8\\x80\\x0bdt\\xac\\ny\\xcc\\xc4\\xc6\\xb0\\x00\\xa5\\x90S\\x81Z~\\x8c\\x93(\\x85\\x02Gf\\x9d\\xb3\\xe1{\\xc68X\\x00\\xcaAP&\\x1a\\xc7\\x9d\\xe8+y\\x8a @\\n\\xed\\xac\\x11\\xa42;q\\xc3\\xb8H&t*\\x00\\xdb\\x90\\xe4\\xc7\\x1c\\xa9+~\\xc3t<c\\xc6\\xe7\\x15\\xc8\\x01W\\x06`\\x83\\t\\xd4\\xc2\\x9c\\xac\\xc2\\xcf\\x1e\\xdf\\xf8\\xb9\\xf8\\x8f\\x12\\xe8\\xee\\xa4N\\xec\\xfb\\xec#\\x9e\\x11\\x883J-\\x9d\\xc0\\xa5\\x98\\x84\\xdf\\xbe\\rb\\x00\\x8a\\x80\\x03\\x85\\x05\\x01\\x8da\\x9c\\xe2\\x04Dn^6\\xa9/n \\xfa\\xe0\\xe4OIB\\xadL\\xa1z,\\x98\\x03\\x98x9up\\x8br\\xb7\\xd4\\xc7|E\\xd9\\xf3\\x1e?\\xf3\\x91\\x1bt\\xeb\\xd6\\x7f\\xb7\\x84\\xf6\\r\\xfcc\\xf1\\xfcu\\xdc\\xdf[\\x9f\\xbb\\xf1_\\xcb\\xf5\\xc0\\x94\\xc4\\xde\\xdcz\\xfe\\x9f\\xc8\\xb0\\x16\\x13\\x16\\x05|/\\xeb0\\\\\\xf1\\x1b\\t\\x12\\xd2ZL\\xfex\\x13\\x1c\\x98\\xc6|\\xa0\\xfe\\xba\\xdf$Gck\\xfcbe0g\\xed\\xc6 YR\\x88\\xa9\\xc9\\xa3\\x1e\\x96\\xcdh\\xe5\\xb5c\\xa7Z\\xd60Hu\\x9b\\x92^\\t-\\x95,\\x86\\xfb\\x18\\xf9\\xb8\\x17O\\x80\\x1a\\x84fz\\x1e\\xad\\xf3\\x8f\\x10\\xdd\\xe1\\x96\\x8a\\x14d\\xaa\\xc8}z\\xb9!\\xc4F\\x13\\x10FL\\x98w\\xec\\xc6\\x0c\\xce\\r\\x00\\nA\\x89\\x9c\\xb0\\x01\\xdb\\x80*\\xeb\\x86q\\x08\\x04\\x02An<\\xc66A\\xe1\\xb0\\x14D\\xe1\\xcdRH\\x9f\\x1d\\x90\\x1eR\\x02:\\x1fB\\xc0\\x0ef\\xd3d80\\x13\\x10i\\xa6W\\x96\\x99Z\\xe1\\xd5\\xe4q2\\xd6x\\xa5\\x05&fe{q\\xc8\\x912\\xac\\x98+m\\x04\\xde9U\\x87u7\\xdd{\\xea\\xfa\\xcd\\x9a\\xe3r\\x18z\\xec\\xbd\\xbf\\x1b\\xfbk\\x87\\xd0\\xe2\\x88\\xac\\x08\\x08p\\x99\\xd0\\xac\\x0f\\x0f\\xf7\\x15\\xb7\\xa0\\x8a\\xa5\\xd7\\xc3\\x90\\x18\\x18\\xa8\\xa5Ch\\x0c0Fa\\x9e\\xf8\\xdb9\\x97 \\xa37\\xfb\\x18\\xb4\\xbf/\\x01*\\x8a\\x83=\\xb5gZ]jm\\xe0X\\xa8\\xad\\x95\\x91\\xe9\\xd7r\\\\\\x13|\\tT!\\x014\\xdca\\xf1|\\'\\x9c\\xf1\\x94\\x10:\"\\xe1\\xd6\\xf1\\x0f;\\xf32 \\x81\\xd4{\\xd0z\\xca_\\x81\\xf7\\xcb\\x15\\x9b\\x01dq\\xba&\\xfdg\\xc9xn!\\x82\\xd5\"=hdu\\x7f\\xdf\\x08E\\xac\\t\\xa7\\xd3H;:\\xeae\\xe5$\\xe0\\xc3\\x17t\\xc4>\\xab\\x9d|\\xf2\\xd2i\\xd5\\xf2m\\x13\\xf5~x\\xcaP6\\xb6\\xfe\\x937\\xa9\\x9b\\xf0+\\x12\\x84N\\xf6\\xec\\xf3\\xf2bC\\xcc\\x9cR\\xb1\\x9e\\xa3\\xbf\\x9c\\xfe\\xbf&\\xc9\\xcc\\x83h\\xa3\\xdc[\\x0c\\xb9\\xfe:\\xe6\\xc0E\\xb3\\x7fR\\xebw\\xe2<\\x80\\xf0@\\xf1\\x99\\xf3\\xef\\xdb\\xe2\\xf24\\xfe\\xa7S\\x95F0\\x90\\xad\\x8d\\xc0\\x83\\xa8\\xfb\\xf1\\xd8\\xc5\\xf8B\\x1b.d\\x1f\\xfd\\xc7h\\xade\\xc1\\x1c\\x9a\\xff\\x00O\\xeaKyP9\\x0c\\xc2\\xfe+^\\xb3|\\xbe\\xa4\\\\\\xa8\\xda\\xe4#\\x9d\\xb5;\\xce\\x9d\\xe1\\xe6\\x12\\x03\\x90\\xbb\\xf2a\\x06\\x08\\xdc\\x1b\\x0e\\x8eM\\x03\\xd4\\xe9oY\\xcd\\xc7\\x9e\\xe6\\'\\x104)\\xe5\\x0c\\rDX\\x82\\x80Qv\\xb9\\x98\\\\\\xc4JB\\xd0\\xc9PP`@n\\x01\\xd0\\x8a#\\x07\\x15\\xbb\\xb3\\xd3\\xab\\xe6bw\\x0f<\\x81w=\\x98\\xa4\\x02\\xba\\xc0\\xee7\\xef\\x87!$\\xd6\\xcd\\x15u\\xf7\\xa5\\x8f\\x8e\\\\\\xc4\\xa6\\xddl3\\xcd\\xb9\\xd1\\xad\\x188\\xd7U\\x19\\x17\\x81~\\xde\\xb3\\xf7\\xc0VU\\x9c,D\\xc9\\x1f\\xce\\xe9\\xdf\\x19xrod2\\xe8\\xac\\xc3\\xbe2j\"\\xa658E\\xc5\\x1f\\x0e\\x10\\xe2(C\\x06KZ\\xe2\\x84\\x85\\x831w\\xca\\xd80\\x86R\\xe0\\xc6cM\\xf5\\xf7\\xe4\\x12\\x04\\xce\\xeb#\\x86\\x07\\xeb\\xe7]\\x95q\\x8cb\\xdd\\x185\\xe3\\xc7\\xe3\\x89\\x19\\x90t\\xb3\\xbe\\xde\\xff\\x00\\xbf%p\\x04\\xce\\xd0\\xcc1\\x19\\xd6y \\xe4A\\x18\\xa8J/l*\\x8e^(Y\\xd0.\\xd2\\x1c\\xbc\\x02T\\x14CE\\xe5\\x91J\\x02r\\x8en\\xb8\\xdc\\xd7F9\\x06\\x03\\x9f\\x03\\xdcr\\xf5L\\xd7\\xf99\\xb0\\x80pD\\xd5\\x01\\xc4\\x17&~\\xcb9\\x00\\xb4f\\x84\\x85\\xc1\\xd4\\xd4\\xea\\xf2\\x0c\\xc6ReR\\xd0\\xc7\\x8d-\\xfa\\xddHV\\xd9 \\xbb\\xed\\xc4\\xda\\xfa\\x89\\x17b\\x8a\\x8a\\xcf\\x13\\xc3\\xe7y\\xf5\\xfaq\\x80\\xd6\\x99\\x8b\\x89V\\xfe>}\\xf0V\\x19\\xd0\\x13\\xfa\\xfeu\\xca\\x036C\\xab\\x90\\xf6\\x9f\\xa6\\xc7\\xc0\\xb0\\x8fR;\\xcfM\\xcd\\xe3\\x189\\xae\\xe52\\xfd=gY\\x87\\\\6>f;\\xf8\\xceq\\xef\\x88&uL\\xfc\\xfb\\x8e\\xfe\\xf8\\xdb\\x82h\\x87\\xe1~L\\xdf\\xf6p\\x194:\\x0b/\\xb2N\\xba\\xbf\\xea\\xd0\\x1b\\xe9\\x9f\\x81\\x8f>\\x1e\\xdc<u_\\x85\\xcd\\xf7\\xfan>y\\xdb\\xc0n\\x81\\xf9\\xf2\\xe6buny\\xb8\\x0c\\x8ep:\\x9d\\xf7\\xe3\\xacg\\x97\\xdaI\\x06\\xec\\x87Ox\\xd3\\x9e\\xb8\\x00\\x8b\\xd4\\x90\\x9b\\xcaq\\x9d\\x05s\\xeb\\x8a\\x92\\x07\\x01\\xa2X\\xa5 4\\x8e\\xe8g\\x92Qn\\x00\\xba\\xf9\\x8fg\\xfc\\xe0\\xe6\\x87FO\\r\\xae\\xff\\x00\\xefS\\x8be1\\xd5?\\xbf\\xdc\\xe3\\x88S!W\\xb3\\xd3\\x8c\\x9a?\\x8f\\'\\x15r\\xdc]\\xf9\\xd1\\xe8\\t\\xbb\\xcd\\xa9\\x1b\\x11\\xae\\rK\\x84d\\xdf\\xd6#n\\x05\\xb8D.7@\\xf4\\xb2p\\xd5-f&\\x05z\\x02Z\\r2\\xe1p\\xa7A\\x8c\\x94\\xe1R2n\\xc7|\\n\\x05]\\x1a\\xb8\\x1d\\x11\\x06\\xd6Oa\\xc0XJ\\xe2\\x91#W\\x01\\x11^\\xddo\\x99\\x11\\xf10\\xebDP\\xa5\\xaf\\x8c\\x93\\x1cP$\\xa2\\x01b(\\x95\\xf4\\xe7\\x1d\\x92\\xf3\\xab\\xa2\\x17fi\\x94.e\\r>\\xc1h\\x04\\x1c\\x1c\\xc0\\xf0\\xb1\\xc1\\xe1\\xcf\\r\\x16\\x18\\x15\\xa8hY\\x1d\\xa0^\\xddq\\t\\xcd\\x95.\\x1c=g\\xc3\\xad\\xe3\\x97\\x8cT`\\xa9\\xc3\\x03:\\x027\\xac\\xbcQ\\x19k\\tL\\x16\\xf7\\x9b5wN0bEf \\xa2\\xd0\\x9es\\xbf\\xc7\\nR\\xbb2\\x06\\xdd\\xbe\\xfc|sHv\\xc8a\\xcb\\x82^\\xa7m\\xf8\\x9c``a\\x94\\xc3$\\xd5\\xeb\\x04\\xa7X8\\x19\\xf0\\xc3\\xc1P>>c\\xba\\x12\\x1cR\\x14\\xafk\\xeb\\x15\\xd1\\xf7\\xef\\x98F\\xd57)\\x1d\\x8f\\x9f\\xf9\\xc0\\x01\\x02\\xdfX\\xce\\x16g?\\xaf\\xc0\\xf1_\\xa0)\\x05\\x8c_8\\x8f~sx2[DP\\xc7\\x93\\xa4\\xc5\\x95\\xf7\\x83<\\xfcS\\xf9\\xbf\\xf7\\xf6\\xe6\\x1c~\\x97\\xa6\\x9f\\xef\\xfap\\xf7\\xe0\\xb3k\\x90\\xef\\xaf\\xdf\\xd4\\xe5\\x84\\xf7\\xd5\\r)\\x8c\\xd6\\xe1\\xeb\\xdd\\xbcG\\x1aB]\\x84\\xe5\\x9b\\xcf}D\\xc2d\\xd3;Y<I\\x99\\xe5\\xf3\\xb3\\xb9ek\\x99\\x85nE\\x8d\\xef\\x1d\\xcc\\xe5\\xf6\\x04\\xa8\\x1ec\\x8f\\xd1O\\xd7\\x8a\\xccs@\\x17\\x0e$\\xd9\\xae\\xb73\\xc4y%B\\x03\\xb1A\\xf2\\xf5i\\xd9\\xe0\\xdcj`\\x06\\xc0\\xb0\\xab\\xff\\x00\\xbc];\\r.\\xd15|\\x8d\\x97Zs\\xc0\\xca\\xeb5\\xb5\\xa8\\x97\\x87\\x96&-[\\xe4)\\x03\\xb0\\x1d\\xdb=.RR\\x8cA\\x82Y8\\x85\\x14\\x1e@\\xb9),8^\\x99\\x08\\x88\\x15e\\x111\\xbd\\xfb\\x87\\r\\xa7\\xa4\\xd9\\x90\\xdd\\x8f\\xcfs\\xbe\\x02\\xe2\\xc5\\xfc\\xa7\\xe9\\x8e\\xa7\\xdf\\x12D\\x05\\xcb\\x01I\\x8c\\xf7\\x86\\xeb_3\\x85jQQ\\x93\\xe2\\x08\\x8e\\x87\\x17$\\x9c\\xc1X\\xbf\\x01\\x83\\x01t\\x8d\\x98+\\xbc.Q\\x11i\\xc0:=hY\\x97\\xae\\x02\\xb1X\\x01s\\x08-\\xab\\x13\\x068\\xe4\\xd6\\x15`+\\xb1\\n3\\x08/K\\x98\\x87UR\\xb8\\xa6|i\\xfc\\x1ceP\\x87\\xbd\\xe3\\xfd\\xb5\\xfb\\xe3\\x91\\xee\\x8ewp\\xdb\\xf8\\xcf\\\\\\x8d\\xc3[\\xd9\\xfc\\x1f\\xb7 D\\xcb\\xd0u|\\xb9%\\xef\\x98+5\\x8co\\x1f\\xeb\\xbf\\\\y\\xc7s\\xf1\\xf1\\xf8\\xdf\\x9f\\x8e5(x \\xe3\\xdf\\xe9>\\xf3\\x8e&D\\x05\\x063\\x87\\x13o\\xe6\\xd4\\xea\\xf1#6\\xe4\\xf2&W\\xe3\\x13Y\\xd6\\xf8\\x90J\\xa2\\xa80\\x99J\\xae\\x1f\\x83\\x19{E\\x05\\x12!\\x88\\xb6\\x92\\xf4\\xef\"C\\x15\\x1aW&\\x80\\xe0s\\x97\\xd27\\xc3\\x0eE6:\\x89\\r\\xdb-+\\x9dvNgDeT\\xc3Y\\xe7r\\xcc\\x12p\\x01\\x04\\xc6`\\x90L\\xfc/\\xa4\\xc7\\x8f4\\xafJ.GO\\xa7~\\xff\\x00^k\\x04\\x8ci\\xbc\\xbdh\\xfd\\x9f\\x1c\\xbc\\x91\\x83v!\\\\\\xb7\\xd6r{\\x9c\\xc5(u\\xeb\\xac\\x8b\\xee\\xad\\xfd\\xe9\\xcb\\x83\\x89\\xc2\\xd1\\xc8\\x1d\\x0b\\xe3\\x18\\xd1\\xeb\\x88\\x04j\\xf6GG\\xcfXr;\\xf1\\xc1s\\x87\\x0e\\xfd\\x16\\xa7z\\x0f6uN\\x08\\xc0\\xc8y*\\x075{\\xae\\x10\\xd1\\xc9\\x90H\\x1bQ\\xe8\\xc1\\x12\\xefF\\xc9\\xaeC2\\xa4\\xa28a\\xfd\\x03\\x06\\x17W\\x03\\xb0\\xa5\\xb4`\\xbaUu\\xbc\\xc4\\x7fG\\x90a\\x1c\\xc2,\\xc1)e\\x1d\\xb9\\xf3\\xcc\\x98\\x14\\x17]\\xe6?\\x0f\\xeb8\\xa9\\x1b\\xdc\\x04\\xc1\\xb2v_\\xaf\\xbe\\x1a\\x87[\\xa6~\\xff\\x00z~\\xd9\\xe2\\x8eI\\xa5\\xe9\\\\\\xe3\\x11\\xf1\\xfa\\x9d\\x9c>\\x1f+\\xe3/\\xa3k}\\xf58\\x170\\x90\\x0e]:\\x1e=\\xe7qad[\\tfT\\x02\\x996\\xf6\\xe6@Z9\\x02\\x84B \\xc9B\\x8edu*s\\xde\\x11\\xac\\xa1\\x9e\\xc7\\xb0\\xe3p\\xc4\\xf3\\x8c?\\x00\\xdeq\\xdc\\xe2\\xb0\\x04\\x96%\\xc8\\xe2\\xb6\\xd3\\xcf]\\xe5\\xe2\\x9a\\xd3\\x11u<W\\xce\\xf7\\xe3\\xdf\\x10\\x1ae\\x86\\x9a\\r/Z\\xd7\\x8c\\xfa\\x95-_\\x8f\\x89_\\x7f\\xaf\\xe3\\x88\\xcb0#2u\\xa5.e\\x963\\x89\\x91PIJ\\x16\\xe4N\\xc2\\x8cPb\\xc8\\xd0\\xdd\\xa9\\x08\\xb3{\\xcc\\x97\\xdd\\xe2\\x86Uj$\\xef\\xcc\\xc9*\\xcc\\xf9\\x06\\xc56\\x8b\\xae\\xd1\\xf0\\xef\\xbb\\xf3=q\\x84\\xc1hI\\x12\\xbe>\\xbe\\x9f\\xbe[\\xa4\\x0b\\xdb,\\xff\\x00\\xcf\\x14\\xf9\\xc0\\xdd\\x8c:l\\x96\\xf9\\xfd|\\x18\\xe0\\xd5M\\xbd\\xe6}w|u\\xd3\\xcc\\xacj: \\xef\\xbb\\x8b\\xd0\\xbe\\xb7x\\xe6\\xd9\\xfdt\\xe7\\xf3\\xc6Z\\xd0\\xa4\\x06\\xf2Ag\\xb5\\xfa}\\xf1!\\xd4\\x85\\x133\\xcb0\\x8e\\x03\\xff\\x00x\\xb53%2\\xdd.\\x9c\\x91\\x8b\\xe7X\\xe3\\xb0k\\xc6\\x89\\xac\\xc1q\\xff\\x00\\'\\x87\\xf6U\\xdaHu7\\xfa\\xb75/=\\x7f\\xbf\\xfa\\xe6 \\x08\\x1cn\\x11q\\xe7\\xafF{\\xc8\\x98\\xc0\\x08\\xce?\\x9du\\xf7\\xf0\\x85\\x9a\\x15\\xf8\\xc9\\x1f\\x81\\xf7\\xd5\\xe0 \\x0e\\xd8H\\xbe\\xc1\\xcb\\\\\\xe3\\xf8x)\\x82\\xb4\\xf9\\xfa\\xf6\\xc9\\x0c\\xeb\\x88\\xa0\\x05\\xdcXS\\xf0\\x03\\x9b0\\x9a8\\xb4\"\\xa7\\xd4m)P\\x84\\xc1\\xdb8\\xfbTq\\x82\\xf9\\xb7\\xe6\\xcf\\xbe\"Vc\\xf2\\xb7\\xa9\\xd3\\x9a\\xe0\\xd6\\xf9\\xd3g\\xae\\x89\\xfb\\xd7~\\xb8T!H\\xe0\\x8e\\xf2>G\\xc8{\\xc7\\x1eI[\\xf0\\xe3\\xe4\\xee7\\xdd\\xef\\x99&;\\x17\\xe9\\xb7z\\xef\\xf8\\xe3!\\xd8\\x83v\\x03\\xf9\\x1b\\xfa\\xeb\\x80j\\xe0\\'a\\xb0\\xd9\\x8f\\xbf\\xf5\\xc4C!\\xb9P\\xbc-\\x80\\x0c\\x96i\\x87\\x19\\x84\\x8c\\xbd\\x03\\xce\\xa5\\x03\\xe3W\\\\c\\xa8ZvX\\ti\\x13\\x14\\xb6L\\x9c.9?CI`\\xc8\\xeca\\xc33\\x89\\x88\\x00\\xd7\\x08\\x06J.3\\xa9\\xac\\xf1Yt\\xa3\\x06+[\\xc0eT\\x10\\xd9D\\xe0U\\x82\\x17\\x14\\xd0\\x07\\x06C\\xac\\xc6\\xa0h)W$\\xc0\\xc2\\xdcYz\\xe1\\x91\\xca\\x10\\xbaZr\\xb80\\xddXn\\x8d\\xca\\x8cB0\\x14z\\x0f\\xceL\\xce\\x08_Ah1&\\x06\"\\xc1\\xd9\\x97\\xb2\\x9ccC\\xb5\\x00\\x05\\xd9\\x08z>\\xca\\xc8\\x02\\x856`\\x08\\xf8\\x93|\\x14\\xd0\\x0b\\x80\\x15\\xb8zYu|\\xb3\\x94\\xa6\\xac[h\\xdcgB\\r\\xeb\\\\h\\x1d\\xa0F%@\\xc2\\x8b\\xac/|\\x82 aJ\\x0eY\\xd1\\xe0.\\xf9\\x96\\x1b\\xbc\\x16y\\x98\\xd9\\xaed\\xaaj\"\\xde\\x8f\\xb7\\xf7\\xf1\\xc2\\x14X1#\\xfd;\\xe3\\x82i\\xe9\\xd8Jc\\xc0~\\x9e8\\x8a V?\\xb7\\x0cT\\x8c\\x0f\\xc0c\\xeb<\\x80\\xd6\\x17\\x15\\xbdV\\x7fO\\xdf\\x91\\xb308\\xdf\\xf55\\x99\\xbcs*\\xac\\xf4t]}\\xf5t\\xb3\\xaa=AZP\\xdc\\x062\\\\\\x93\\x00w\\xdf\\x11\\x90\\xd24\\x17\\xa9\\x94\\xed\\xbd\\xfb7\\xc6 4Z;\\x8a\\xa2\\xf7\\x93\\xcf\\x8e8\\xc3\\xf6(M\\x8f_\\x88\\x1e\\xf3\\x00\\xbd\\x1c\\x98@\\xac:6\\x9dG\\xae#\\x19\\x04\\x82h=K\\xd3\\xf5~\\x1b\\xb2\\x86\\xdb\\xa9\\x8c$\\x8e\\xc9\\x8e\\x8cr\\x1c\\x0bL\\x18\\xbb$7\\'\\x91\\x13qz@#iz\\'U\\xd7y\\xe4]\\xa3\\x06A\\xbb\\xce2\\xdc\\xdd\\xe1\\xe2\\xd5\\xc0\\x81\\xc8e\\xb6c\\x10\\xf8y\\xe1 CJ\\x0b(RJXB\\xc6\\xeb\\x02\\x1b.r\\xa4k\\x14\\x7f\\xae\\xfb\\xe3\\t\\xbd%\\xdfp\\xbe\\xb7\\xa9\\x8e\\xf8]\\x8agmd\\xfa\\xad\\xf7*o\\x80\\xca\\x12KH\\xb1\\xdc\\x14\\xa8\\xcfW\\x96\\x9624Wa\\xe9V\\xe1\\xdf\\xae\\x14\\n\\xec\\xcb(\\x15(\\x85\\xd8\\xa0\\x1e-\\x9bZ\\xc0\\x80\\x8a\\xa8Q\\xbeL\\xe3\\x1cK\\x1d% \\\\\\x10\\x03d\\x04P\\x99\\xc8\\x1a\\x8a\\xad=\\x82)\\x02u\\xc4\\xd8\\x81\\xa9\\x9f#\\x1f\\xc2#\\xc6\\x15\\xfa03\\xeb\\x1fz;\\xe1\\xe7;]\\xbb\\xdfZ\\xe0\\xe8\\x02\\x8e\\x8fbOXy\\xb8\\x94\\x94\\xd4\\xc4\\xeb\\xf4\\xd9\\xfbqR\\x89\\x93\\xa7\\xf4s\\x87\\xf8\\xc7\\t\\x9b\\xe3\\x1f\\xef\\xea}\\xeb\\x90%\\xd6F\\xbac\\xf4\\x7f\\xdeXB\\xb4!\\xb3fm\\x98\\x9a\\xd9\\x80\\xc9\\xb9(\"\\x91+\\x10\\xbe~<9/\\x1a\\xe2.\\xd7C \\xd8\\xd9;/~8\\xd0\\x19\\x04\\xf8nkp\\xf5\\x8e\\x9c\\xf0x\\x15lzs:\\xff\\x00\\xccz\\xe4\\t\\x9a\\xa6K\\xd6\\xc0|z\\xb3Y\\xe0\\x06\"\\x8b\\x87\\xd5\\xf1\\xe3\\xac\\xf9\\xcf\\x1c\\x07\\x88\\x8a\\xe2\\x05~\\xdb\\xfd&\\xb9zQ4fe\\xc1\\x8bj\\xb3\\xad\\xcc\\xf6g\\x85\\x16\\x8d\\xc7\\xae\\x9fN\\x0e\\x18\\x90`m\\x96\\xf5\\'\\xe9\\x9f\\x8c\\xf0\\x10\\x97Kf\\xab>3\\xef\\xd7\\x14\\xc0%oT\\xd4\\xfe.\\x1f\\x1eu\\x0c\\x83f\\xc9H\\x1b:_/\\xcf$\\xa0>\\xc2\\x13.z\\xcf\\xcc\\xe2\\x15R;\\\\F\\x00M\\x95\\r\\xe5\\x98\\xf3x\\x8a\\xc7\\xb4\\xcaN\\xd9\\xab\\xbf\\xa9\\x8eX\\x82\\xc2\\x12\\xaa\\xe4c?\\x1f\\xfb\\xc7\\rz\\x02\\x01M+\\x85\\xed\\x9a\\xe0\\xbc\\n\\x98]\\xe7}\\xa9>\\x99\\xfak\\x811Br\\x88\\xd9\\xd3\\xcc\\x96\\xd1\\xb9:\\xe0y\\xaeh\\x15\\xad\\x13\\xbe\\xab5\\x9e`\\xad_\\xb8\\xc8\\x8e\\xaca\\xf0\\x99l\\xe2\\x8b\\x80\\xb4I\\x02\\xb5\\xbf\\r\\x97O\\x8ec\\x8b\\x81\\xb1\\xc8\\xa0|:m\\nGpm\\x11\\xc8\\xcc\\x0ch\\xa0\\x18\\x1ag\\xa6\\xb9\\xb3\\xa8,,Cg\\x7f\\x89\\x01z\"\\x80i\\xc5\\xa212\\xae8\\x89!3\\x80\\x9a\\xc4\\xdf\\xf3\\xfc3EE\\x101\\x0bp\\x1e_\\xa6\\xded\\x8e\\xae\\x11\\xb91\\xf2~q\\xf5\\xca\\x05;\\x8fP\\xc13\\xa0\\xc7\\xd9\\x9c\\xe6\\xe4\\xd6-W\\xad\\xe7\\xc6\\x1f\\x19\\xc7\\xae\\x1b6<\\x15$\\xe1\\x82\\r.\\x0cT\\xdf\\x11\\xc1\\x0bMj\\x87)\\xc87}\\xb0(\\xe0\\x04\\x050\\xc8\\x9ex\\x82\\x14Ve\\xcc\\xa5\\x8eh\\xe7~\\x9d\\xeb\\x96\\xd7k\\xac\\xce\\xad\\xb2\\x9fO\\xdf0\\x15\\x04\\x8b]\\xe7\\x7f\\xaf\\xfd\\xe1\\xb7\\xd7\\xb5\\xf6\\x98\\xcc_\\x99\\x8f<\\x03ET}\\xdb\\x83\\x06\\xeb\\xfd1C`\\x9b\\xac\\xeb_\\x8b\\xf8xHW\\x1d\\x88\\xe3\\xacuo\\xfe\\x88\\x03\\x116\\xa6\\xc5\\xd7\\xf7\\xeb\\x01\\xc6!q\\x84+7\\x8e\\xff\\x00\\xf5>\\xb8\\x10\\x88`\\x11&\\xf0{.O\\x9f\\\\D\\x10\\x96VP\\xc9\\x0fT\\xbd\\x16\\xebA g\\xb1\\xab\\xd9\\x98\\xce\\x98b{\\xc8@\\xad\\xdd\\xb3\\xe9\\x1a\\x10\\xfdqpY6\\xcb!s\\xaf\\x88\\xd6O\\xac\\xef\\x95Dqq\\x9c\\x06s|\\xfb\\xfd8\\xf1K#\\x0cd\\xf3\\xbf\\x1e\\xb2{\\x94\\xb4\\x13b\\xf9\\n\\xba \\xb3\\xf9\\xb3\\x85\\x1c\\xba\\x88\\xcf3\\n`~w\\xbcc\\x8eD\\x18\\xfe&\\x9d\\xfc\\x7fw\\xca\\x15\\x1f\\xb6H\"\\xa5\\x98\\xd3.\\xf8\\xf2AM\\xbf\\x99\\x9d\\xcd\\xb3\\x8e\\xb6r\\xf0%\\xa5q\\xd7y\\xc0\\xfd\\xfc\\xf0\\xb9\\x90\\xcb\\x96G\\xa7X|k2q{\\x05N\\xc0\\x16\\xfd\\xa9\\xearKP8\\xce.`k\\xb5\\xfdw\\xcb8\\x1c\\xb6d\\xac\\x9a\\xc7\\x9eWN\\xc5\\xfe>yLpF0\\xa5>A>\\x1e^\\t\\x19\\x82\\xc7\\x96\\xc5b\\xf7\\xd7\\xd6d\\xe8\\xe6\\tcb\\'v\\xa1\\xb8\\xeb\\x80\\x8d\\xa0P\\xaa\\x13Q\\xcb\\x06\\xd3\\'\\xc7\"`\\x85\\x02\\xe4D\\xd2\\xe0\\x1f\\x8e\\xf792K.\\xf6\\x8e\\xf6\\x14\\xef^\\xe0\\x0c)\\xba\\x86\\xc6\\xaeJ\\xe7a\\x84\\xfb\\xe1\\x8cyw\\x1b\\r\"\\xdc\\x9af\\xa9\\xd4E\\x86+\\xbb@\\xf0\\xbb\\x16\\x18\\x85N;\\n%\\xae[\\x82<\\x85\\xedq\\x85\\x84M\\xe4g\\x16\\xd3Y\\x91\\r\\x9b\\xf2\\xce\\x1e:-\\x91\\x12\\x8f\\xa5\\xc1;\\xc6q\\xec\\x8e\\x14m\\xb8\\x9a1\\xcb\\xf9\\x1a\\xe1\\xe4\\xf7?\\'\\xbbs\\x01\\xd1\\x9e\\x00\\xb9j\\'\\xe47\\xd3\\xd2\\x1dN\\x1e\\x02S\\x1b\\x0c\\xb7{)\\xacg\\xf1v\\xd3)B\\xa4\\xc2i\\xa8#\\x8b\\x8c\\xeb\\x86\\x12\\r\\x0c\\x94\\xaa\\xa8\\t\\xe0\\x1d<Z\\x1fk\\xed\\xb78-\\x0b7>U\\xcb\\xb7\\xa4\\r?N?\\xef\\x07.\\xfb\\x0f\\x9d<\\x9a\\xbf&7\\xc4\\x14\\xda\\x98\\x81\\xae\\x8f\\x1d\\xf7>7U\\xa6)\\xb0\\x18\\x13)C\\x8d\\x9e_\\x9e-\\x15LU[\\x19\\xdf\\xbd\\xa1\\xea;MH\\xea\\x93\\xc5\\xb0}{\\xf5\\xba\\x8b\\x86\\xf9\\xc7\\xf3\\x8fx\\xf1\\x9d\\n\\xf0H\\xcfLf\\xb2t\\xb7\\xdf\\x00\\x95co\\xac\\xf5\\xbf\\xa2z\\xd6yx\\x950#4\\xafs\\x1fX\\xc9w\\xc2\\x8a\\x814*\\xebY\\x1c}k\\x8a\\t\\x1c4\\x1fZ\\xbe\\xfe7\\xe0\\xd9\\x12\\xaa\\xe2S5O;\\xc2\\x1f\\x1d\\xd1\\xe2\\x1b\\x8dgO\\x08\\x0c\\xd9P\\x03\\xb8n\\xd2\\xaa\\x03\\xa1\\x033-\\\\fI\\x9e\\xf9(\\x97\\x1a\\xa69\\x83\\x13\\xdf\\x88\\xc8.8\\x8e-\\x8eP\\xd8a\\xb4\\xa3\\x87}\\x18\\xe0\\xa5\\x10\\xce.\\xaaxd\\xce\\xb4/\\\\&P\\x02\\xa3\\xb7\\x03F\\xcaJ\\xe7E\\xe2\\xd4H\\xf7U:\\xc8\\xf7C,ni\\xc3af\\xc7\\xb7\\x03\\x00`\\\\Y\\x0e\\xeb\\x83\\x8ck\\x0e\\xad\\xec\\xd8\\xecs\\xa9\\x8f\\x1c\\x11\\x0b\\x84\\xd6\\xde\\x8e\\x8f\\x89\\xac}g\\x0c\\x1bJ\\x17\\xc0L\\xdf\\x138\\x8f\\x0cB\\xa4\\xda\\xc0\\x88(\\x1d\\xdd8\\x9a\\x9a\\xc7\\x12\\x8e>\\x16\\x94\\x81\\xd4\\xf5\\xe7\\x80)(\\xaf\\xac\\x9e%L\\xe1\\xd6\\x1c\\xe3\\x86\\xc1b\\x1c \\xdaw\\xf1\\xbc\\x97\\x1ct\\x11w\\x86,\\x8a\\x18\\x08\\xad\\xa5,|\\xb2\\xa9\\xed\\xa8\\xe8\\xf3\\xbd\\xd7:@T_Fv\\xacg\\xad\\x8e|\\xba\\x0eR\\xf6\\x94\\xe8\\x98?\\xa2wg\\xc3xH&I\\t%\\x8d\\xef\\xa9\\xb8\\xfc\\xa6\\xd14\\xaao\\rz\\xb0\\xe2\\x0bzg\\xdb\\xaf\\xef|w\\xbfl\\xf65\\x1d\\xbc\\x9a\\x8d\\xbfQ\\xf1\\xc1\\x04\\x90\\x00\\x98\\x00\\xae\\xf373\\xf1\\x9e\"\\xd0\\x10*.\\rh\\xef:i\\x8e@@\\x82\\xe5fw\\x0e3\\xbcse\\x0eBT^\\xd35\\xca\\xd7\\xc4\\xc7\\x10\\xe5\\x06G\\x1e0d\\xab\\xde|\\xd7\\x148\\xd8#\\x8a2\\r\\xcd\\xf2\\x1dM\\xe0\\xa6\\xb8\\x885\\x19&Rf\\x83 >\\x1f\\xe6\\xf1Q]a\\xc0\\x10\\xc5p|\\xeb77\\xb1\\rFo.\\x8a\\xea\\xe4\\x9d/\\xe9\\xc3R\\xc57-#3.N\\x80\\xcf\\\\6\\xb2\\n\\xa2\\xd7\\xcb\\xac\\xbd\\x17\\xcf\\xcd\\xe3\\x8b8\\xa1\\x85^\\x8b\\x0e\\xe7z\\x9e%\\t\\xa1B\\xe0\\xf2\\xf6\\x1a\\x04am\\xc4\\xc0v\\xe0A5\"]\\x8e\\xcdc\\xe7\\x91\\xc5\\xb8(\\xa1\\x9aD\\xdd\\xf6\\xc7\\xd2.\\x85\\x15C\\xa8\\xa0\\xaf\\x8de\\xf8B\\xbc\\x8c\\x96\\x00\\xd23o9\\xce\\x0f\\xeb\\xcc\\x82\\x8c@\\xde\\x97W\\xf9\\xdf\\xcf\\\\\\xf8\\xeb~\\x9d\\xfe\\xdd\\xf3n\\xc3\\xbc|\\xf9\\x9f\\xdds\\xaf\\x19\\xeb\\xc5\\xc7\\xe4\\xfcq\\xc49[\\xa5\\x98!\\xd2\\xfd\\x98\\xfcpQ6\\xd0\\x18\\xe6\\xa3\\xe0\\xad\\xef6{\\\\UE\\t\\x8cP7\\x1brb\\xcd\\xf9\\xe3#[v6i\\x17\\xfe\\x18\\xe3\\xaa#\\xaf\\xd7o\\xd7\\xad\\xeey4\\xfe\\n\\xb9i\\x8a\\xad\\xf4\\xe3\\xa9\\xc6\\xb1F\\xe9*+1]\\n87\\xdb\\x1e\\x02Z\\xd7\\x00tI\\x9c@~\\xf6\\x95a\\x85\\x82j\\x06\\xe8\\x84M\\xb5\\xce\\x0b8\\x83\\xa2\\\\\\xc8\\x01D\\x02U\\xa3\\xfa\\x1c\\x0e\\x00$\\\\]\\xa8~Q\\xef\\x1bq\\xcc\\x07eW\\xeb\\xa3t\\x9d\\x1b\\xf5\\xc1F\\x1b\\xa9\\xf1\\x0e\\xed/\\x7f~8\\x98\\x80&b \\x86\\x82\\x89\\x0c\\xe33\\x1cn*\\xb3:D\\xc9\\x91\\xde%Y\\xdf+1\\x86\\x0e\\xcb\\x92EZ\\xef\\xc6\\xb3\\xc5\\xd0 &\\x0e\\xdc\\xa7xP\\x0c\\'t\\xcf\\x1e\\x8dre\\xe4AL\\xad\\xfc\\x8fA\\xb38\\x1e\\xe7p~\\xfe\\xb8+\\x08d\\x9f9\\x80\\x1e_\\x83u\\xf3+3\\xa3\\xc5O\\xc0Z\\xfa\\xd7\\\\\\xc3X\\xf9\\xe8\\xd5\\xfb)\\xab\\xeaq\\x0b4\\r\\xc7\\xb4\\xef\\xb7\\xa8\\xf8\\xf6\\xa0v\\xd4\\x9e\\x96>5\\xe67\\xe7J\\x00%0S\\xeb\\xbb\\x9f\\x7f<\\x04B%E\\xb91zZ\\xfb|\\xf9\\xe3r\\x9c\\xaa8\\xeb\\xc4\\xf1\\x19\\x8d\\x9a\\xe4\\x00J\\xaf\\x18%s\\xf1\\xf85R\\x1d\\x8d\\xbd\\xe1\\x8aji\\x1f\\xbd\\xf8LS\\x01E\\x7f\\x8d\\x8c\\xc7\\xc6\\'\\x16T\\x15\\xbb\\x8a\\x8aFS9\\x9f\\x83\\xbe\\n\\xc4\\x97&\\xbb\\xfe<\\x1dk\\x8c\\xa0)m\\x90|.n\\x1eN9\\xa9z!\\xfaY\\xd6\\xb3\\x83\\xa7wp\\xa9\\x14\\xf0=\\xbf_\\xaf\\x1e2$\\xed \\x1a\\xf9\\x0c\\xc1z\\x9c\\xf7\\xbb0\\xd4D\\\\\\x1b\\xcf\\xe7>\\t\\xe89\\xe9+-\\xbcj!L\\xce\\xef(\\x85\\xde\\xc4\\x14\\x1e\\x14\\x9e\\x133z\\x98\\x85 \\xca=\\xba\\x1f?\\xb9\\xe4\\xe3e\\xf0\\xafXE\\xd5\\xe8\\xd1}p\\ngoW\\xa2\\xfe\\xdc\\x13\\xba\\xe6\\t\\xff\\x00\\xbe\\x9f\\x8eh\\xc2b\\xa3\\xe2;\\xab\\xda~u\\xb7\\x84\\xa6\\xe4}\\xfc|g\\x1f~9f\\xc9\\x91\\xf4\\x01\\xf1\\x91\\xcfwr\\xa6E\\x04\\x0c\\xbd\\x9b\\x81\\xde\\x9c\\xe7\\x0ey\\xff\\xd9',\n",
       "  'link': 'https://www.pagina12.com.ar/307663-para-que-bolivia-sea-miembro-pleno-de-mercosur'}]"
      ]
     },
     "metadata": {},
     "execution_count": 70
    }
   ],
   "source": [
    "data"
   ]
  },
  {
   "cell_type": "code",
   "execution_count": 65,
   "metadata": {},
   "outputs": [],
   "source": [
    "import pandas as pd"
   ]
  },
  {
   "cell_type": "code",
   "execution_count": 71,
   "metadata": {},
   "outputs": [],
   "source": [
    "df = pd.DataFrame(data)"
   ]
  },
  {
   "cell_type": "code",
   "execution_count": 72,
   "metadata": {},
   "outputs": [
    {
     "output_type": "execute_result",
     "data": {
      "text/plain": [
       "                                               title        date  \\\n",
       "0  Sara Osatinsky: \"El represor Vergez me contó p...  2020-11-24   \n",
       "1      Monzó y Macri ya pelean la interna bonaerense  2020-11-24   \n",
       "2               A celebrar el día de la construcción  2020-11-24   \n",
       "3  Confirman que el helicóptero de Jorge Brito im...  2020-11-24   \n",
       "4     Posnets y pago con QR para la economía popular  2020-11-24   \n",
       "\n",
       "                                             volanta  \\\n",
       "0  El testimonio de la sobreviviente de la ESMA, ...   \n",
       "1  Juntos por el Cambio en la provincia de Buenos...   \n",
       "2                    Alberto Fernández en Olavarría    \n",
       "3  Informe de la Junta de Seguridad en el Transporte   \n",
       "4  El ministerio de Desarrollo Social busca lleva...   \n",
       "\n",
       "                                                 img  \\\n",
       "0  b'\\xff\\xd8\\xff\\xe0\\x00\\x10JFIF\\x00\\x01\\x01\\x01...   \n",
       "1  b'\\xff\\xd8\\xff\\xe0\\x00\\x10JFIF\\x00\\x01\\x01\\x01...   \n",
       "2  b'\\xff\\xd8\\xff\\xe0\\x00\\x10JFIF\\x00\\x01\\x01\\x01...   \n",
       "3  b'\\xff\\xd8\\xff\\xe0\\x00\\x10JFIF\\x00\\x01\\x01\\x00...   \n",
       "4  b'\\xff\\xd8\\xff\\xe0\\x00\\x10JFIF\\x00\\x01\\x01\\x01...   \n",
       "\n",
       "                                                link  \n",
       "0  https://www.pagina12.com.ar/307693-sara-osatin...  \n",
       "1  https://www.pagina12.com.ar/307664-monzo-y-mac...  \n",
       "2  https://www.pagina12.com.ar/307666-a-celebrar-...  \n",
       "3  https://www.pagina12.com.ar/307528-confirman-q...  \n",
       "4  https://www.pagina12.com.ar/307603-posnets-y-p...  "
      ],
      "text/html": "<div>\n<style scoped>\n    .dataframe tbody tr th:only-of-type {\n        vertical-align: middle;\n    }\n\n    .dataframe tbody tr th {\n        vertical-align: top;\n    }\n\n    .dataframe thead th {\n        text-align: right;\n    }\n</style>\n<table border=\"1\" class=\"dataframe\">\n  <thead>\n    <tr style=\"text-align: right;\">\n      <th></th>\n      <th>title</th>\n      <th>date</th>\n      <th>volanta</th>\n      <th>img</th>\n      <th>link</th>\n    </tr>\n  </thead>\n  <tbody>\n    <tr>\n      <th>0</th>\n      <td>Sara Osatinsky: \"El represor Vergez me contó p...</td>\n      <td>2020-11-24</td>\n      <td>El testimonio de la sobreviviente de la ESMA, ...</td>\n      <td>b'\\xff\\xd8\\xff\\xe0\\x00\\x10JFIF\\x00\\x01\\x01\\x01...</td>\n      <td>https://www.pagina12.com.ar/307693-sara-osatin...</td>\n    </tr>\n    <tr>\n      <th>1</th>\n      <td>Monzó y Macri ya pelean la interna bonaerense</td>\n      <td>2020-11-24</td>\n      <td>Juntos por el Cambio en la provincia de Buenos...</td>\n      <td>b'\\xff\\xd8\\xff\\xe0\\x00\\x10JFIF\\x00\\x01\\x01\\x01...</td>\n      <td>https://www.pagina12.com.ar/307664-monzo-y-mac...</td>\n    </tr>\n    <tr>\n      <th>2</th>\n      <td>A celebrar el día de la construcción</td>\n      <td>2020-11-24</td>\n      <td>Alberto Fernández en Olavarría</td>\n      <td>b'\\xff\\xd8\\xff\\xe0\\x00\\x10JFIF\\x00\\x01\\x01\\x01...</td>\n      <td>https://www.pagina12.com.ar/307666-a-celebrar-...</td>\n    </tr>\n    <tr>\n      <th>3</th>\n      <td>Confirman que el helicóptero de Jorge Brito im...</td>\n      <td>2020-11-24</td>\n      <td>Informe de la Junta de Seguridad en el Transporte</td>\n      <td>b'\\xff\\xd8\\xff\\xe0\\x00\\x10JFIF\\x00\\x01\\x01\\x00...</td>\n      <td>https://www.pagina12.com.ar/307528-confirman-q...</td>\n    </tr>\n    <tr>\n      <th>4</th>\n      <td>Posnets y pago con QR para la economía popular</td>\n      <td>2020-11-24</td>\n      <td>El ministerio de Desarrollo Social busca lleva...</td>\n      <td>b'\\xff\\xd8\\xff\\xe0\\x00\\x10JFIF\\x00\\x01\\x01\\x01...</td>\n      <td>https://www.pagina12.com.ar/307603-posnets-y-p...</td>\n    </tr>\n  </tbody>\n</table>\n</div>"
     },
     "metadata": {},
     "execution_count": 72
    }
   ],
   "source": [
    "df.head()"
   ]
  },
  {
   "cell_type": "code",
   "execution_count": null,
   "metadata": {},
   "outputs": [],
   "source": []
  }
 ]
}